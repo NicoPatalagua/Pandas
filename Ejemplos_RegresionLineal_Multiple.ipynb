{
  "nbformat": 4,
  "nbformat_minor": 0,
  "metadata": {
    "kernelspec": {
      "display_name": "Python 3",
      "language": "python",
      "name": "python3"
    },
    "language_info": {
      "codemirror_mode": {
        "name": "ipython",
        "version": 3
      },
      "file_extension": ".py",
      "mimetype": "text/x-python",
      "name": "python",
      "nbconvert_exporter": "python",
      "pygments_lexer": "ipython3",
      "version": "3.5.2"
    },
    "colab": {
      "name": "Ejemplos RegresionLineal Multiple.ipynb",
      "provenance": [],
      "include_colab_link": true
    }
  },
  "cells": [
    {
      "cell_type": "markdown",
      "metadata": {
        "id": "view-in-github",
        "colab_type": "text"
      },
      "source": [
        "<a href=\"https://colab.research.google.com/github/NicoPatalagua/Pandas/blob/master/Ejemplos_RegresionLineal_Multiple.ipynb\" target=\"_parent\"><img src=\"https://colab.research.google.com/assets/colab-badge.svg\" alt=\"Open In Colab\"/></a>"
      ]
    },
    {
      "cell_type": "code",
      "metadata": {
        "id": "ECuasCSj5vdj",
        "colab_type": "code",
        "colab": {}
      },
      "source": [
        "import pandas as pd\n",
        "import numpy as np"
      ],
      "execution_count": 0,
      "outputs": []
    },
    {
      "cell_type": "code",
      "metadata": {
        "id": "myeZK_HT5vdt",
        "colab_type": "code",
        "colab": {}
      },
      "source": [
        "data = pd.read_csv(\"articulos_ml.csv\")"
      ],
      "execution_count": 0,
      "outputs": []
    },
    {
      "cell_type": "code",
      "metadata": {
        "id": "PukwL9YL5vd1",
        "colab_type": "code",
        "colab": {
          "base_uri": "https://localhost:8080/",
          "height": 34
        },
        "outputId": "3b691588-ee2c-4abe-8240-b6258e88a5ba"
      },
      "source": [
        "data.shape"
      ],
      "execution_count": 6,
      "outputs": [
        {
          "output_type": "execute_result",
          "data": {
            "text/plain": [
              "(161, 8)"
            ]
          },
          "metadata": {
            "tags": []
          },
          "execution_count": 6
        }
      ]
    },
    {
      "cell_type": "code",
      "metadata": {
        "id": "kQuVLdPO5vd7",
        "colab_type": "code",
        "colab": {
          "base_uri": "https://localhost:8080/",
          "height": 442
        },
        "outputId": "49dedaad-8f14-4a44-c885-733e6c892a1f"
      },
      "source": [
        "data.tail()"
      ],
      "execution_count": 7,
      "outputs": [
        {
          "output_type": "execute_result",
          "data": {
            "text/html": [
              "<div>\n",
              "<style scoped>\n",
              "    .dataframe tbody tr th:only-of-type {\n",
              "        vertical-align: middle;\n",
              "    }\n",
              "\n",
              "    .dataframe tbody tr th {\n",
              "        vertical-align: top;\n",
              "    }\n",
              "\n",
              "    .dataframe thead th {\n",
              "        text-align: right;\n",
              "    }\n",
              "</style>\n",
              "<table border=\"1\" class=\"dataframe\">\n",
              "  <thead>\n",
              "    <tr style=\"text-align: right;\">\n",
              "      <th></th>\n",
              "      <th>Title</th>\n",
              "      <th>url</th>\n",
              "      <th>Word count</th>\n",
              "      <th># of Links</th>\n",
              "      <th># of comments</th>\n",
              "      <th># Images video</th>\n",
              "      <th>Elapsed days</th>\n",
              "      <th># Shares</th>\n",
              "    </tr>\n",
              "  </thead>\n",
              "  <tbody>\n",
              "    <tr>\n",
              "      <th>156</th>\n",
              "      <td>[Log] 83: How Google Uses Machine Learning And...</td>\n",
              "      <td>[Log] 83: http://feedproxy.google.com/~r/Techc...</td>\n",
              "      <td>3239</td>\n",
              "      <td>3</td>\n",
              "      <td>11.0</td>\n",
              "      <td>1</td>\n",
              "      <td>84</td>\n",
              "      <td>3239</td>\n",
              "    </tr>\n",
              "    <tr>\n",
              "      <th>157</th>\n",
              "      <td>[Log] 84: Zuck Knows If You've Been Bad Or Goo...</td>\n",
              "      <td>[Log] 84: http://feedproxy.google.com/~r/Techc...</td>\n",
              "      <td>2566</td>\n",
              "      <td>3</td>\n",
              "      <td>8.0</td>\n",
              "      <td>4</td>\n",
              "      <td>85</td>\n",
              "      <td>25019</td>\n",
              "    </tr>\n",
              "    <tr>\n",
              "      <th>158</th>\n",
              "      <td>[Log] 85: Microsoft Improves Windows Phone Voi...</td>\n",
              "      <td>[Log] 85: http://feedproxy.google.com/~r/Techc...</td>\n",
              "      <td>2089</td>\n",
              "      <td>4</td>\n",
              "      <td>4.0</td>\n",
              "      <td>1</td>\n",
              "      <td>86</td>\n",
              "      <td>49614</td>\n",
              "    </tr>\n",
              "    <tr>\n",
              "      <th>159</th>\n",
              "      <td>[Log] 86: How Google's Acquisition Of DNNresea...</td>\n",
              "      <td>[Log] 86: http://feedproxy.google.com/~r/Techc...</td>\n",
              "      <td>1530</td>\n",
              "      <td>4</td>\n",
              "      <td>12.0</td>\n",
              "      <td>3</td>\n",
              "      <td>87</td>\n",
              "      <td>33660</td>\n",
              "    </tr>\n",
              "    <tr>\n",
              "      <th>160</th>\n",
              "      <td>[Log] 87: Google's Cloud Is Eating Apple's Lunch</td>\n",
              "      <td>[Log] 87: http://feedproxy.google.com/~r/Techc...</td>\n",
              "      <td>953</td>\n",
              "      <td>6</td>\n",
              "      <td>13.0</td>\n",
              "      <td>2</td>\n",
              "      <td>88</td>\n",
              "      <td>5956</td>\n",
              "    </tr>\n",
              "  </tbody>\n",
              "</table>\n",
              "</div>"
            ],
            "text/plain": [
              "                                                 Title  ... # Shares\n",
              "156  [Log] 83: How Google Uses Machine Learning And...  ...     3239\n",
              "157  [Log] 84: Zuck Knows If You've Been Bad Or Goo...  ...    25019\n",
              "158  [Log] 85: Microsoft Improves Windows Phone Voi...  ...    49614\n",
              "159  [Log] 86: How Google's Acquisition Of DNNresea...  ...    33660\n",
              "160   [Log] 87: Google's Cloud Is Eating Apple's Lunch  ...     5956\n",
              "\n",
              "[5 rows x 8 columns]"
            ]
          },
          "metadata": {
            "tags": []
          },
          "execution_count": 7
        }
      ]
    },
    {
      "cell_type": "code",
      "metadata": {
        "id": "oJUZKoPs5veG",
        "colab_type": "code",
        "colab": {
          "base_uri": "https://localhost:8080/",
          "height": 297
        },
        "outputId": "f62c756c-749a-494d-d77a-1fb9f6fbae31"
      },
      "source": [
        "data.describe()"
      ],
      "execution_count": 8,
      "outputs": [
        {
          "output_type": "execute_result",
          "data": {
            "text/html": [
              "<div>\n",
              "<style scoped>\n",
              "    .dataframe tbody tr th:only-of-type {\n",
              "        vertical-align: middle;\n",
              "    }\n",
              "\n",
              "    .dataframe tbody tr th {\n",
              "        vertical-align: top;\n",
              "    }\n",
              "\n",
              "    .dataframe thead th {\n",
              "        text-align: right;\n",
              "    }\n",
              "</style>\n",
              "<table border=\"1\" class=\"dataframe\">\n",
              "  <thead>\n",
              "    <tr style=\"text-align: right;\">\n",
              "      <th></th>\n",
              "      <th>Word count</th>\n",
              "      <th># of Links</th>\n",
              "      <th># of comments</th>\n",
              "      <th># Images video</th>\n",
              "      <th>Elapsed days</th>\n",
              "      <th># Shares</th>\n",
              "    </tr>\n",
              "  </thead>\n",
              "  <tbody>\n",
              "    <tr>\n",
              "      <th>count</th>\n",
              "      <td>161.000000</td>\n",
              "      <td>161.000000</td>\n",
              "      <td>129.000000</td>\n",
              "      <td>161.000000</td>\n",
              "      <td>161.000000</td>\n",
              "      <td>161.000000</td>\n",
              "    </tr>\n",
              "    <tr>\n",
              "      <th>mean</th>\n",
              "      <td>1808.260870</td>\n",
              "      <td>9.739130</td>\n",
              "      <td>8.782946</td>\n",
              "      <td>3.670807</td>\n",
              "      <td>98.124224</td>\n",
              "      <td>27948.347826</td>\n",
              "    </tr>\n",
              "    <tr>\n",
              "      <th>std</th>\n",
              "      <td>1141.919385</td>\n",
              "      <td>47.271625</td>\n",
              "      <td>13.142822</td>\n",
              "      <td>3.418290</td>\n",
              "      <td>114.337535</td>\n",
              "      <td>43408.006839</td>\n",
              "    </tr>\n",
              "    <tr>\n",
              "      <th>min</th>\n",
              "      <td>250.000000</td>\n",
              "      <td>0.000000</td>\n",
              "      <td>0.000000</td>\n",
              "      <td>1.000000</td>\n",
              "      <td>1.000000</td>\n",
              "      <td>0.000000</td>\n",
              "    </tr>\n",
              "    <tr>\n",
              "      <th>25%</th>\n",
              "      <td>990.000000</td>\n",
              "      <td>3.000000</td>\n",
              "      <td>2.000000</td>\n",
              "      <td>1.000000</td>\n",
              "      <td>31.000000</td>\n",
              "      <td>2800.000000</td>\n",
              "    </tr>\n",
              "    <tr>\n",
              "      <th>50%</th>\n",
              "      <td>1674.000000</td>\n",
              "      <td>5.000000</td>\n",
              "      <td>6.000000</td>\n",
              "      <td>3.000000</td>\n",
              "      <td>62.000000</td>\n",
              "      <td>16458.000000</td>\n",
              "    </tr>\n",
              "    <tr>\n",
              "      <th>75%</th>\n",
              "      <td>2369.000000</td>\n",
              "      <td>7.000000</td>\n",
              "      <td>12.000000</td>\n",
              "      <td>5.000000</td>\n",
              "      <td>124.000000</td>\n",
              "      <td>35691.000000</td>\n",
              "    </tr>\n",
              "    <tr>\n",
              "      <th>max</th>\n",
              "      <td>8401.000000</td>\n",
              "      <td>600.000000</td>\n",
              "      <td>104.000000</td>\n",
              "      <td>22.000000</td>\n",
              "      <td>1002.000000</td>\n",
              "      <td>350000.000000</td>\n",
              "    </tr>\n",
              "  </tbody>\n",
              "</table>\n",
              "</div>"
            ],
            "text/plain": [
              "        Word count  # of Links  ...  Elapsed days       # Shares\n",
              "count   161.000000  161.000000  ...    161.000000     161.000000\n",
              "mean   1808.260870    9.739130  ...     98.124224   27948.347826\n",
              "std    1141.919385   47.271625  ...    114.337535   43408.006839\n",
              "min     250.000000    0.000000  ...      1.000000       0.000000\n",
              "25%     990.000000    3.000000  ...     31.000000    2800.000000\n",
              "50%    1674.000000    5.000000  ...     62.000000   16458.000000\n",
              "75%    2369.000000    7.000000  ...    124.000000   35691.000000\n",
              "max    8401.000000  600.000000  ...   1002.000000  350000.000000\n",
              "\n",
              "[8 rows x 6 columns]"
            ]
          },
          "metadata": {
            "tags": []
          },
          "execution_count": 8
        }
      ]
    },
    {
      "cell_type": "code",
      "metadata": {
        "id": "pjeU67i55veN",
        "colab_type": "code",
        "colab": {
          "base_uri": "https://localhost:8080/",
          "height": 204
        },
        "outputId": "1049d2da-6682-472b-9d6c-bbf98421f793"
      },
      "source": [
        "# Predecir la cantidad de Shares (variable dependiente)\n",
        "# teniendo como parámetros (variables independientes) la cantidad de palabras en el artículo\n",
        "# y la cantidad de imágenes y videos dentro de él\n",
        "\n",
        "x_y_data = data[[\"Word count\", '# Images video']].fillna(0)\n",
        "\n",
        "x_y_data.head()"
      ],
      "execution_count": 9,
      "outputs": [
        {
          "output_type": "execute_result",
          "data": {
            "text/html": [
              "<div>\n",
              "<style scoped>\n",
              "    .dataframe tbody tr th:only-of-type {\n",
              "        vertical-align: middle;\n",
              "    }\n",
              "\n",
              "    .dataframe tbody tr th {\n",
              "        vertical-align: top;\n",
              "    }\n",
              "\n",
              "    .dataframe thead th {\n",
              "        text-align: right;\n",
              "    }\n",
              "</style>\n",
              "<table border=\"1\" class=\"dataframe\">\n",
              "  <thead>\n",
              "    <tr style=\"text-align: right;\">\n",
              "      <th></th>\n",
              "      <th>Word count</th>\n",
              "      <th># Images video</th>\n",
              "    </tr>\n",
              "  </thead>\n",
              "  <tbody>\n",
              "    <tr>\n",
              "      <th>0</th>\n",
              "      <td>1888</td>\n",
              "      <td>2</td>\n",
              "    </tr>\n",
              "    <tr>\n",
              "      <th>1</th>\n",
              "      <td>1742</td>\n",
              "      <td>9</td>\n",
              "    </tr>\n",
              "    <tr>\n",
              "      <th>2</th>\n",
              "      <td>962</td>\n",
              "      <td>1</td>\n",
              "    </tr>\n",
              "    <tr>\n",
              "      <th>3</th>\n",
              "      <td>1221</td>\n",
              "      <td>2</td>\n",
              "    </tr>\n",
              "    <tr>\n",
              "      <th>4</th>\n",
              "      <td>2039</td>\n",
              "      <td>4</td>\n",
              "    </tr>\n",
              "  </tbody>\n",
              "</table>\n",
              "</div>"
            ],
            "text/plain": [
              "   Word count  # Images video\n",
              "0        1888               2\n",
              "1        1742               9\n",
              "2         962               1\n",
              "3        1221               2\n",
              "4        2039               4"
            ]
          },
          "metadata": {
            "tags": []
          },
          "execution_count": 9
        }
      ]
    },
    {
      "cell_type": "code",
      "metadata": {
        "id": "92doq7tf5veW",
        "colab_type": "code",
        "colab": {
          "base_uri": "https://localhost:8080/",
          "height": 119
        },
        "outputId": "8d0013fd-eee9-469c-ecae-21e724a9c271"
      },
      "source": [
        "data['# Shares'].head()"
      ],
      "execution_count": 10,
      "outputs": [
        {
          "output_type": "execute_result",
          "data": {
            "text/plain": [
              "0    200000\n",
              "1     25000\n",
              "2     42000\n",
              "3    200000\n",
              "4    200000\n",
              "Name: # Shares, dtype: int64"
            ]
          },
          "metadata": {
            "tags": []
          },
          "execution_count": 10
        }
      ]
    },
    {
      "cell_type": "code",
      "metadata": {
        "id": "U5tbLIiq5ved",
        "colab_type": "code",
        "colab": {}
      },
      "source": [
        "# z = m*x + m*y + b\n",
        "x_y_train_data = np.array(x_y_data)\n",
        "z_train_data = data['# Shares'].values"
      ],
      "execution_count": 0,
      "outputs": []
    },
    {
      "cell_type": "code",
      "metadata": {
        "id": "UdP4axxI5vel",
        "colab_type": "code",
        "colab": {}
      },
      "source": [
        "from sklearn.linear_model import LinearRegression # Se importa el modelo de regresión lineal"
      ],
      "execution_count": 0,
      "outputs": []
    },
    {
      "cell_type": "code",
      "metadata": {
        "id": "MzzBufW_5veq",
        "colab_type": "code",
        "colab": {}
      },
      "source": [
        "# Se instancia LinearRegression (funciona para regresión lineal simple y múltiple)\n",
        "multiple_linear_regression = LinearRegression()"
      ],
      "execution_count": 0,
      "outputs": []
    },
    {
      "cell_type": "code",
      "metadata": {
        "id": "J6Y3W9Ac5vev",
        "colab_type": "code",
        "colab": {
          "base_uri": "https://localhost:8080/",
          "height": 34
        },
        "outputId": "60e309e2-cbef-4c14-85e0-1f2882161e91"
      },
      "source": [
        "# Se 'entrena' el modelo\n",
        "multiple_linear_regression.fit(x_y_train_data, z_train_data)"
      ],
      "execution_count": 14,
      "outputs": [
        {
          "output_type": "execute_result",
          "data": {
            "text/plain": [
              "LinearRegression(copy_X=True, fit_intercept=True, n_jobs=None, normalize=False)"
            ]
          },
          "metadata": {
            "tags": []
          },
          "execution_count": 14
        }
      ]
    },
    {
      "cell_type": "code",
      "metadata": {
        "id": "y9S4NygW5ve2",
        "colab_type": "code",
        "colab": {
          "base_uri": "https://localhost:8080/",
          "height": 34
        },
        "outputId": "3cd4373e-c9fd-44a3-a5e3-35ee08d6122a"
      },
      "source": [
        "print(multiple_linear_regression.coef_) # Imprime el coeficiente (la pendiente m) de cada recta"
      ],
      "execution_count": 15,
      "outputs": [
        {
          "output_type": "stream",
          "text": [
            "[  5.46782479 -57.62514909]\n"
          ],
          "name": "stdout"
        }
      ]
    },
    {
      "cell_type": "code",
      "metadata": {
        "id": "U8p0NNbv5ve-",
        "colab_type": "code",
        "colab": {
          "base_uri": "https://localhost:8080/",
          "height": 34
        },
        "outputId": "c55ec362-c409-4471-c601-9a6a8c023af2"
      },
      "source": [
        "print(multiple_linear_regression.intercept_) # Imprime la intersección (valor b)"
      ],
      "execution_count": 16,
      "outputs": [
        {
          "output_type": "stream",
          "text": [
            "18272.62503864113\n"
          ],
          "name": "stdout"
        }
      ]
    },
    {
      "cell_type": "code",
      "metadata": {
        "id": "enViniD05vfH",
        "colab_type": "code",
        "colab": {
          "base_uri": "https://localhost:8080/",
          "height": 34
        },
        "outputId": "b3c518bd-bb84-421f-d2ae-aec349be9739"
      },
      "source": [
        "x = multiple_linear_regression.coef_[0]\n",
        "y = multiple_linear_regression.coef_[1]\n",
        "b = multiple_linear_regression.intercept_\n",
        "print(\"z = {}*x + {}*y + {}\".format(round(x, 2), round(y, 2), round(b, 2))) # Función del ajuste "
      ],
      "execution_count": 17,
      "outputs": [
        {
          "output_type": "stream",
          "text": [
            "z = 5.47*x + -57.63*y + 18272.63\n"
          ],
          "name": "stdout"
        }
      ]
    },
    {
      "cell_type": "code",
      "metadata": {
        "id": "MT3qKw-L5vfM",
        "colab_type": "code",
        "colab": {
          "base_uri": "https://localhost:8080/",
          "height": 34
        },
        "outputId": "72d3c1a6-446b-42e2-f3b0-a6ef64a17f96"
      },
      "source": [
        "model_accuracy = multiple_linear_regression.score(x_y_train_data, z_train_data) # Calculamos la precisión del modelo\n",
        "\n",
        "print(\"Precisión del modelo: {}%\".format(round(model_accuracy * 100, 2)))"
      ],
      "execution_count": 18,
      "outputs": [
        {
          "output_type": "stream",
          "text": [
            "Precisión del modelo: 2.01%\n"
          ],
          "name": "stdout"
        }
      ]
    },
    {
      "cell_type": "code",
      "metadata": {
        "id": "wTmN5rTS5vfS",
        "colab_type": "code",
        "colab": {}
      },
      "source": [
        "import matplotlib.pyplot as plt\n",
        "from mpl_toolkits.mplot3d import Axes3D"
      ],
      "execution_count": 0,
      "outputs": []
    },
    {
      "cell_type": "code",
      "metadata": {
        "id": "B2OxmGGC5vfZ",
        "colab_type": "code",
        "colab": {
          "base_uri": "https://localhost:8080/",
          "height": 336
        },
        "outputId": "8b9dba23-b21c-4cb6-de41-f9aded2e62b7"
      },
      "source": [
        "fig = plt.figure()\n",
        "ax = Axes3D(fig)\n",
        " \n",
        "# Creamos una malla, sobre la cual graficaremos el plano\n",
        "xx, yy = np.meshgrid(np.linspace(0, 3500, num=10), np.linspace(0, 60, num=10))\n",
        " \n",
        "# calculamos los valores del plano para los puntos x e y\n",
        "nuevoX = (multiple_linear_regression.coef_[0] * xx)\n",
        "nuevoY = (multiple_linear_regression.coef_[1] * yy) \n",
        " \n",
        "# calculamos los correspondientes valores para z. Debemos sumar el punto de intercepción\n",
        "z = (nuevoX + nuevoY + multiple_linear_regression.intercept_)\n",
        " \n",
        "# Graficamos el plano\n",
        "ax.plot_surface(xx, yy, z, alpha=.5, cmap='hot')\n",
        " \n",
        "# Graficamos en azul los puntos en 3D\n",
        "ax.scatter(x_y_train_data[:, 0], x_y_train_data[:, 1], z_train_data, c='blue')\n",
        " \n",
        "# con esto situamos la \"camara\" con la que visualizamos\n",
        "ax.view_init(elev=30., azim=65)\n",
        "        \n",
        "ax.set_xlabel('Cantidad de Palabras')\n",
        "ax.set_ylabel('Num. links, comentarios, imágenes')\n",
        "ax.set_zlabel('Número de shares')\n",
        "ax.set_title('Regresión Lineal con Múltiples Variables')"
      ],
      "execution_count": 20,
      "outputs": [
        {
          "output_type": "execute_result",
          "data": {
            "text/plain": [
              "Text(0.5, 0.92, 'Regresión Lineal con Múltiples Variables')"
            ]
          },
          "metadata": {
            "tags": []
          },
          "execution_count": 20
        },
        {
          "output_type": "display_data",
          "data": {
            "image/png": "[encoded data removed]",
            "text/plain": [
              "<Figure size 432x288 with 1 Axes>"
            ]
          },
          "metadata": {
            "tags": [],
            "needs_background": "light"
          }
        }
      ]
    },
    {
      "cell_type": "code",
      "metadata": {
        "id": "TcQkFW4i5vfe",
        "colab_type": "code",
        "colab": {
          "base_uri": "https://localhost:8080/",
          "height": 204
        },
        "outputId": "1841089d-f073-4acb-c504-1fd14a68c83b"
      },
      "source": [
        "### Ahora tomando más de 2 variables independientes\n",
        "\n",
        "# Se crea un DataFrame para almacenar nuestras variables independientes\n",
        "x1_x2_x3_x4_data = data[[\"Word count\", \"# of Links\", '# of comments', '# Images video']].fillna(0)\n",
        "\n",
        "x1_x2_x3_x4_data.head()"
      ],
      "execution_count": 21,
      "outputs": [
        {
          "output_type": "execute_result",
          "data": {
            "text/html": [
              "<div>\n",
              "<style scoped>\n",
              "    .dataframe tbody tr th:only-of-type {\n",
              "        vertical-align: middle;\n",
              "    }\n",
              "\n",
              "    .dataframe tbody tr th {\n",
              "        vertical-align: top;\n",
              "    }\n",
              "\n",
              "    .dataframe thead th {\n",
              "        text-align: right;\n",
              "    }\n",
              "</style>\n",
              "<table border=\"1\" class=\"dataframe\">\n",
              "  <thead>\n",
              "    <tr style=\"text-align: right;\">\n",
              "      <th></th>\n",
              "      <th>Word count</th>\n",
              "      <th># of Links</th>\n",
              "      <th># of comments</th>\n",
              "      <th># Images video</th>\n",
              "    </tr>\n",
              "  </thead>\n",
              "  <tbody>\n",
              "    <tr>\n",
              "      <th>0</th>\n",
              "      <td>1888</td>\n",
              "      <td>1</td>\n",
              "      <td>2.0</td>\n",
              "      <td>2</td>\n",
              "    </tr>\n",
              "    <tr>\n",
              "      <th>1</th>\n",
              "      <td>1742</td>\n",
              "      <td>9</td>\n",
              "      <td>0.0</td>\n",
              "      <td>9</td>\n",
              "    </tr>\n",
              "    <tr>\n",
              "      <th>2</th>\n",
              "      <td>962</td>\n",
              "      <td>6</td>\n",
              "      <td>0.0</td>\n",
              "      <td>1</td>\n",
              "    </tr>\n",
              "    <tr>\n",
              "      <th>3</th>\n",
              "      <td>1221</td>\n",
              "      <td>3</td>\n",
              "      <td>0.0</td>\n",
              "      <td>2</td>\n",
              "    </tr>\n",
              "    <tr>\n",
              "      <th>4</th>\n",
              "      <td>2039</td>\n",
              "      <td>1</td>\n",
              "      <td>104.0</td>\n",
              "      <td>4</td>\n",
              "    </tr>\n",
              "  </tbody>\n",
              "</table>\n",
              "</div>"
            ],
            "text/plain": [
              "   Word count  # of Links  # of comments  # Images video\n",
              "0        1888           1            2.0               2\n",
              "1        1742           9            0.0               9\n",
              "2         962           6            0.0               1\n",
              "3        1221           3            0.0               2\n",
              "4        2039           1          104.0               4"
            ]
          },
          "metadata": {
            "tags": []
          },
          "execution_count": 21
        }
      ]
    },
    {
      "cell_type": "code",
      "metadata": {
        "id": "yR-31M3w5vfp",
        "colab_type": "code",
        "colab": {}
      },
      "source": [
        "# z = m*x1 + m*x2 + m*x3 + m*x4 + b\n",
        "x1_x2_x3_x4_train_data = np.array(x1_x2_x3_x4_data)\n",
        "z_train_data = data['# Shares'].values"
      ],
      "execution_count": 0,
      "outputs": []
    },
    {
      "cell_type": "code",
      "metadata": {
        "id": "Et7Fb2Ka5vft",
        "colab_type": "code",
        "colab": {}
      },
      "source": [
        "# Se instancia LinearRegression (funciona para regresión lineal simple y múltiple)\n",
        "multiple_linear_regression = LinearRegression()"
      ],
      "execution_count": 0,
      "outputs": []
    },
    {
      "cell_type": "code",
      "metadata": {
        "id": "ke01ygBz5vfw",
        "colab_type": "code",
        "colab": {
          "base_uri": "https://localhost:8080/",
          "height": 34
        },
        "outputId": "c529b3b2-453e-4a36-eaaa-d422d40edbd8"
      },
      "source": [
        "# Se 'entrena' el modelo\n",
        "multiple_linear_regression.fit(x1_x2_x3_x4_train_data, z_train_data)"
      ],
      "execution_count": 24,
      "outputs": [
        {
          "output_type": "execute_result",
          "data": {
            "text/plain": [
              "LinearRegression(copy_X=True, fit_intercept=True, n_jobs=None, normalize=False)"
            ]
          },
          "metadata": {
            "tags": []
          },
          "execution_count": 24
        }
      ]
    },
    {
      "cell_type": "code",
      "metadata": {
        "id": "GFoT0pXJ5vf3",
        "colab_type": "code",
        "colab": {
          "base_uri": "https://localhost:8080/",
          "height": 34
        },
        "outputId": "8a45c261-e37a-4b14-ca96-3a1529ae2ea8"
      },
      "source": [
        "print(multiple_linear_regression.coef_) # Imprime el coeficiente (la pendiente m) de cada recta"
      ],
      "execution_count": 25,
      "outputs": [
        {
          "output_type": "stream",
          "text": [
            "[-2.55598092e-01  2.39715683e+02  8.57453250e+02  8.60096131e+02]\n"
          ],
          "name": "stdout"
        }
      ]
    },
    {
      "cell_type": "code",
      "metadata": {
        "id": "3jHkGXFu5vf9",
        "colab_type": "code",
        "colab": {
          "base_uri": "https://localhost:8080/",
          "height": 34
        },
        "outputId": "2a0af449-f94b-4c1d-a2c8-084e1c632fd6"
      },
      "source": [
        "print(multiple_linear_regression.intercept_) # Imprime la intersección (valor b)"
      ],
      "execution_count": 26,
      "outputs": [
        {
          "output_type": "stream",
          "text": [
            "16884.538738327596\n"
          ],
          "name": "stdout"
        }
      ]
    },
    {
      "cell_type": "code",
      "metadata": {
        "id": "-QFLDKd95vgB",
        "colab_type": "code",
        "colab": {
          "base_uri": "https://localhost:8080/",
          "height": 34
        },
        "outputId": "258a914e-fc9e-4876-bcda-9cc490970358"
      },
      "source": [
        "model_accuracy = multiple_linear_regression.score(x1_x2_x3_x4_train_data, z_train_data) # Calculamos la precisión del modelo\n",
        "\n",
        "print(\"Precisión del modelo: {}%\".format(round(model_accuracy * 100, 2)))"
      ],
      "execution_count": 27,
      "outputs": [
        {
          "output_type": "stream",
          "text": [
            "Precisión del modelo: 14.39%\n"
          ],
          "name": "stdout"
        }
      ]
    },
    {
      "cell_type": "code",
      "metadata": {
        "id": "jz-iQBr_5vgH",
        "colab_type": "code",
        "colab": {
          "base_uri": "https://localhost:8080/",
          "height": 34
        },
        "outputId": "e3098084-c89b-4920-807a-fff613af1d9a"
      },
      "source": [
        "# Pongamos a prueba el modelo\n",
        "\n",
        "# Vamos a predecir cuántos Shares obtendremos por un artículo con:\n",
        "# 2000 palabras, 10 links, 4 comentarios, 6 imágenes \n",
        "\n",
        "#   [palabras, links, comentarios, imágenes/videos]\n",
        "x1_x2_x3_x4_test_data = [[2000, 20, 4, 6]]\n",
        "\n",
        "# Hacemos la predicción\n",
        "z_prediction = multiple_linear_regression.predict(x1_x2_x3_x4_test_data)\n",
        "\n",
        "print(\"Total shares {}\".format(int(z_prediction)))"
      ],
      "execution_count": 28,
      "outputs": [
        {
          "output_type": "stream",
          "text": [
            "Total shares 29758\n"
          ],
          "name": "stdout"
        }
      ]
    }
  ]
}