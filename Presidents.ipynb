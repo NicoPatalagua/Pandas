{
  "nbformat": 4,
  "nbformat_minor": 0,
  "metadata": {
    "colab": {
      "name": "Presidents.ipynb",
      "provenance": [],
      "toc_visible": true
    },
    "kernelspec": {
      "name": "python3",
      "display_name": "Python 3"
    }
  },
  "cells": [
    {
      "cell_type": "markdown",
      "metadata": {
        "id": "OlyLsXVuYTbm",
        "colab_type": "text"
      },
      "source": [
        "# **Programación Cientifica para IA**\n",
        "## ***Nicolás Patalagua***\n",
        "### *Universidad Sergio Arboleda*\n",
        "#### ***PANDAS***"
      ]
    },
    {
      "cell_type": "markdown",
      "metadata": {
        "id": "m-vjwbxIYoky",
        "colab_type": "text"
      },
      "source": [
        "## **¿Qué es Pandas?**\n",
        "\n",
        "En Computación y Ciencia de datos, pandas es una biblioteca de software escrita como extensión de NumPy para manipulación y análisis de datos para el lenguaje de programación Python. En particular, ofrece estructuras de datos y operaciones para manipular tablas numéricas y series temporales. Es un software libre distribuido bajo la licencia BSD versión tres cláusulas. *El nombre deriva del término \"datos de panel\", término de econometría que designa datos que combinan una dimensión temporal con otra dimensión transversal.*\n",
        "\n",
        "\n"
      ]
    },
    {
      "cell_type": "markdown",
      "metadata": {
        "id": "X3243ozLaBmJ",
        "colab_type": "text"
      },
      "source": [
        "\n",
        "# The American Presidency Project\n",
        "\n",
        "The American Presidency Project, non-profit and non-partisan, is the source of presidential documents on the internet.  We are hosted at the University of California, Santa Barbara.\n",
        "\n",
        "https://www.presidency.ucsb.edu/ \n"
      ]
    },
    {
      "cell_type": "markdown",
      "metadata": {
        "id": "g7HdnlNfg-Sr",
        "colab_type": "text"
      },
      "source": [
        "\n",
        "## Presidential Job Approval\n",
        "\n",
        "Question: Do you approve or disapprove of the way [enter President name] is handling his job as President?\n",
        "*Data adapted from the Gallup Poll and compiled by Gerhard Peters *\n",
        "\n",
        "\n",
        "https://www.presidency.ucsb.edu/statistics/data/presidential-job-approval"
      ]
    },
    {
      "cell_type": "markdown",
      "metadata": {
        "id": "bRTzEjnHxC4c",
        "colab_type": "text"
      },
      "source": [
        "Importamos las librerias que vamos a usar."
      ]
    },
    {
      "cell_type": "code",
      "metadata": {
        "id": "PGKu9sMyaBYB",
        "colab_type": "code",
        "colab": {}
      },
      "source": [
        "import pandas as pd\n",
        "from pandas import ExcelWriter\n",
        "from pandas import ExcelFile\n",
        "import matplotlib.pyplot as plt"
      ],
      "execution_count": 0,
      "outputs": []
    },
    {
      "cell_type": "markdown",
      "metadata": {
        "id": "YFvlcdHAxIlI",
        "colab_type": "text"
      },
      "source": [
        "Leemos el archivo de American Presidency Project Potus.xlsx, con la variable Presidente y retornamos la cabecera."
      ]
    },
    {
      "cell_type": "code",
      "metadata": {
        "id": "4P2v2cItgN7B",
        "colab_type": "code",
        "outputId": "8a43ecdd-d2e8-4458-f2bd-3c14319767fb",
        "colab": {
          "base_uri": "https://localhost:8080/",
          "height": 206
        }
      },
      "source": [
        "President = pd.read_excel('POTUS.xlsx')\n",
        "President.head()"
      ],
      "execution_count": 0,
      "outputs": [
        {
          "output_type": "execute_result",
          "data": {
            "text/html": [
              "<div>\n",
              "<style scoped>\n",
              "    .dataframe tbody tr th:only-of-type {\n",
              "        vertical-align: middle;\n",
              "    }\n",
              "\n",
              "    .dataframe tbody tr th {\n",
              "        vertical-align: top;\n",
              "    }\n",
              "\n",
              "    .dataframe thead th {\n",
              "        text-align: right;\n",
              "    }\n",
              "</style>\n",
              "<table border=\"1\" class=\"dataframe\">\n",
              "  <thead>\n",
              "    <tr style=\"text-align: right;\">\n",
              "      <th></th>\n",
              "      <th>Start Date</th>\n",
              "      <th>End Date</th>\n",
              "      <th>Approving</th>\n",
              "      <th>Disapproving</th>\n",
              "      <th>Unsure/NoData</th>\n",
              "    </tr>\n",
              "  </thead>\n",
              "  <tbody>\n",
              "    <tr>\n",
              "      <th>0</th>\n",
              "      <td>2017-01-17</td>\n",
              "      <td>2017-01-19</td>\n",
              "      <td>59</td>\n",
              "      <td>37</td>\n",
              "      <td>4</td>\n",
              "    </tr>\n",
              "    <tr>\n",
              "      <th>1</th>\n",
              "      <td>2017-01-15</td>\n",
              "      <td>2017-01-18</td>\n",
              "      <td>58</td>\n",
              "      <td>38</td>\n",
              "      <td>4</td>\n",
              "    </tr>\n",
              "    <tr>\n",
              "      <th>2</th>\n",
              "      <td>2017-01-14</td>\n",
              "      <td>2017-01-17</td>\n",
              "      <td>57</td>\n",
              "      <td>39</td>\n",
              "      <td>4</td>\n",
              "    </tr>\n",
              "    <tr>\n",
              "      <th>3</th>\n",
              "      <td>2017-01-13</td>\n",
              "      <td>2017-01-15</td>\n",
              "      <td>57</td>\n",
              "      <td>38</td>\n",
              "      <td>5</td>\n",
              "    </tr>\n",
              "    <tr>\n",
              "      <th>4</th>\n",
              "      <td>2017-01-12</td>\n",
              "      <td>2017-01-14</td>\n",
              "      <td>57</td>\n",
              "      <td>39</td>\n",
              "      <td>4</td>\n",
              "    </tr>\n",
              "  </tbody>\n",
              "</table>\n",
              "</div>"
            ],
            "text/plain": [
              "  Start Date   End Date  Approving  Disapproving  Unsure/NoData\n",
              "0 2017-01-17 2017-01-19         59            37              4\n",
              "1 2017-01-15 2017-01-18         58            38              4\n",
              "2 2017-01-14 2017-01-17         57            39              4\n",
              "3 2017-01-13 2017-01-15         57            38              5\n",
              "4 2017-01-12 2017-01-14         57            39              4"
            ]
          },
          "metadata": {
            "tags": []
          },
          "execution_count": 4
        }
      ]
    },
    {
      "cell_type": "markdown",
      "metadata": {
        "id": "gxRiAEdMxY42",
        "colab_type": "text"
      },
      "source": [
        "Vamos a mostrar los datos contenidos acerca del expresidente Barak Obama."
      ]
    },
    {
      "cell_type": "code",
      "metadata": {
        "id": "bd1wShbqfMTW",
        "colab_type": "code",
        "outputId": "d62eda68-d834-4242-e50c-9f615a7c845b",
        "colab": {
          "base_uri": "https://localhost:8080/",
          "height": 206
        }
      },
      "source": [
        "Obama=pd.read_excel('POTUS.xlsx',sheet_name='Barak Obama')\n",
        "Obama[\"Barak Obama\"]=\"Barak Obama\"\n",
        "Obama=Obama[[\"Barak Obama\",\"Start Date\",\"End Date\",\"Approving\",\"Disapproving\",\"Unsure/NoData\"]]\n",
        "Obama.head()"
      ],
      "execution_count": 0,
      "outputs": [
        {
          "output_type": "execute_result",
          "data": {
            "text/html": [
              "<div>\n",
              "<style scoped>\n",
              "    .dataframe tbody tr th:only-of-type {\n",
              "        vertical-align: middle;\n",
              "    }\n",
              "\n",
              "    .dataframe tbody tr th {\n",
              "        vertical-align: top;\n",
              "    }\n",
              "\n",
              "    .dataframe thead th {\n",
              "        text-align: right;\n",
              "    }\n",
              "</style>\n",
              "<table border=\"1\" class=\"dataframe\">\n",
              "  <thead>\n",
              "    <tr style=\"text-align: right;\">\n",
              "      <th></th>\n",
              "      <th>Barak Obama</th>\n",
              "      <th>Start Date</th>\n",
              "      <th>End Date</th>\n",
              "      <th>Approving</th>\n",
              "      <th>Disapproving</th>\n",
              "      <th>Unsure/NoData</th>\n",
              "    </tr>\n",
              "  </thead>\n",
              "  <tbody>\n",
              "    <tr>\n",
              "      <th>0</th>\n",
              "      <td>Barak Obama</td>\n",
              "      <td>2017-01-17</td>\n",
              "      <td>2017-01-19</td>\n",
              "      <td>59</td>\n",
              "      <td>37</td>\n",
              "      <td>4</td>\n",
              "    </tr>\n",
              "    <tr>\n",
              "      <th>1</th>\n",
              "      <td>Barak Obama</td>\n",
              "      <td>2017-01-15</td>\n",
              "      <td>2017-01-18</td>\n",
              "      <td>58</td>\n",
              "      <td>38</td>\n",
              "      <td>4</td>\n",
              "    </tr>\n",
              "    <tr>\n",
              "      <th>2</th>\n",
              "      <td>Barak Obama</td>\n",
              "      <td>2017-01-14</td>\n",
              "      <td>2017-01-17</td>\n",
              "      <td>57</td>\n",
              "      <td>39</td>\n",
              "      <td>4</td>\n",
              "    </tr>\n",
              "    <tr>\n",
              "      <th>3</th>\n",
              "      <td>Barak Obama</td>\n",
              "      <td>2017-01-13</td>\n",
              "      <td>2017-01-15</td>\n",
              "      <td>57</td>\n",
              "      <td>38</td>\n",
              "      <td>5</td>\n",
              "    </tr>\n",
              "    <tr>\n",
              "      <th>4</th>\n",
              "      <td>Barak Obama</td>\n",
              "      <td>2017-01-12</td>\n",
              "      <td>2017-01-14</td>\n",
              "      <td>57</td>\n",
              "      <td>39</td>\n",
              "      <td>4</td>\n",
              "    </tr>\n",
              "  </tbody>\n",
              "</table>\n",
              "</div>"
            ],
            "text/plain": [
              "   Barak Obama Start Date   End Date  Approving  Disapproving  Unsure/NoData\n",
              "0  Barak Obama 2017-01-17 2017-01-19         59            37              4\n",
              "1  Barak Obama 2017-01-15 2017-01-18         58            38              4\n",
              "2  Barak Obama 2017-01-14 2017-01-17         57            39              4\n",
              "3  Barak Obama 2017-01-13 2017-01-15         57            38              5\n",
              "4  Barak Obama 2017-01-12 2017-01-14         57            39              4"
            ]
          },
          "metadata": {
            "tags": []
          },
          "execution_count": 32
        }
      ]
    },
    {
      "cell_type": "markdown",
      "metadata": {
        "id": "ux0X1_9qxkoR",
        "colab_type": "text"
      },
      "source": [
        "Ahora vamos a seleccionar datos de 4 presidentes de los Estados Unidos, para este caso usamos a Donald Trump, Barak Obama, John F. Kennedy y Dwight D. Eisenhower."
      ]
    },
    {
      "cell_type": "code",
      "metadata": {
        "id": "lOSmnYPklY-3",
        "colab_type": "code",
        "colab": {}
      },
      "source": [
        "Trump=pd.read_excel('POTUS.xlsx',sheet_name='Donald Trump')\n",
        "Eisenhower=pd.read_excel('POTUS.xlsx',sheet_name='Dwight D. Eisenhower')\n",
        "Kennedy=pd.read_excel('POTUS.xlsx',sheet_name='John F. Kennedy')\n",
        "Obama.insert(0,'President','Barak Obama')\n",
        "Trump.insert(0,'President','Donald Trump')\n",
        "Eisenhower.insert(0,'President','Dwight D. Eisenhower')\n",
        "Kennedy.insert(0,'President','John F. Kennedy')"
      ],
      "execution_count": 0,
      "outputs": []
    },
    {
      "cell_type": "markdown",
      "metadata": {
        "id": "hAInBHaJyCt7",
        "colab_type": "text"
      },
      "source": [
        "Concatenamos los valores de los presidentes seleccionados."
      ]
    },
    {
      "cell_type": "code",
      "metadata": {
        "id": "HYgAh_RmkQXg",
        "colab_type": "code",
        "outputId": "2c554e70-a616-44d9-b41f-4d59aaf9bc54",
        "colab": {
          "base_uri": "https://localhost:8080/",
          "height": 262
        }
      },
      "source": [
        "Presidents=[Trump,Obama,Kennedy,Eisenhower]\n",
        "FourPresidents=pd.concat(Presidents)\n",
        "FourPresidents.groupby('President').head(1)"
      ],
      "execution_count": 0,
      "outputs": [
        {
          "output_type": "execute_result",
          "data": {
            "text/html": [
              "<div>\n",
              "<style scoped>\n",
              "    .dataframe tbody tr th:only-of-type {\n",
              "        vertical-align: middle;\n",
              "    }\n",
              "\n",
              "    .dataframe tbody tr th {\n",
              "        vertical-align: top;\n",
              "    }\n",
              "\n",
              "    .dataframe thead th {\n",
              "        text-align: right;\n",
              "    }\n",
              "</style>\n",
              "<table border=\"1\" class=\"dataframe\">\n",
              "  <thead>\n",
              "    <tr style=\"text-align: right;\">\n",
              "      <th></th>\n",
              "      <th>President</th>\n",
              "      <th>Start Date</th>\n",
              "      <th>End Date</th>\n",
              "      <th>Approving</th>\n",
              "      <th>Disapproving</th>\n",
              "      <th>Unsure/NoData</th>\n",
              "      <th>Barak Obama</th>\n",
              "    </tr>\n",
              "  </thead>\n",
              "  <tbody>\n",
              "    <tr>\n",
              "      <th>0</th>\n",
              "      <td>Donald Trump</td>\n",
              "      <td>2020-03-13</td>\n",
              "      <td>2020-03-22</td>\n",
              "      <td>49</td>\n",
              "      <td>45</td>\n",
              "      <td>6</td>\n",
              "      <td>NaN</td>\n",
              "    </tr>\n",
              "    <tr>\n",
              "      <th>0</th>\n",
              "      <td>Barak Obama</td>\n",
              "      <td>2017-01-17</td>\n",
              "      <td>2017-01-19</td>\n",
              "      <td>59</td>\n",
              "      <td>37</td>\n",
              "      <td>4</td>\n",
              "      <td>Barak Obama</td>\n",
              "    </tr>\n",
              "    <tr>\n",
              "      <th>0</th>\n",
              "      <td>John F. Kennedy</td>\n",
              "      <td>1963-11-08</td>\n",
              "      <td>1963-11-13</td>\n",
              "      <td>58</td>\n",
              "      <td>30</td>\n",
              "      <td>11</td>\n",
              "      <td>NaN</td>\n",
              "    </tr>\n",
              "    <tr>\n",
              "      <th>0</th>\n",
              "      <td>Dwight D. Eisenhower</td>\n",
              "      <td>1960-12-08</td>\n",
              "      <td>1960-12-13</td>\n",
              "      <td>59</td>\n",
              "      <td>28</td>\n",
              "      <td>13</td>\n",
              "      <td>NaN</td>\n",
              "    </tr>\n",
              "  </tbody>\n",
              "</table>\n",
              "</div>"
            ],
            "text/plain": [
              "              President Start Date  ... Unsure/NoData  Barak Obama\n",
              "0          Donald Trump 2020-03-13  ...             6          NaN\n",
              "0           Barak Obama 2017-01-17  ...             4  Barak Obama\n",
              "0       John F. Kennedy 1963-11-08  ...            11          NaN\n",
              "0  Dwight D. Eisenhower 1960-12-08  ...            13          NaN\n",
              "\n",
              "[4 rows x 7 columns]"
            ]
          },
          "metadata": {
            "tags": []
          },
          "execution_count": 42
        }
      ]
    },
    {
      "cell_type": "markdown",
      "metadata": {
        "id": "KfKYM9BWyLGY",
        "colab_type": "text"
      },
      "source": [
        "Retornamos la fecha de terminación del mandato para los presidentes seleccionados."
      ]
    },
    {
      "cell_type": "code",
      "metadata": {
        "id": "U1gurxr_oKFk",
        "colab_type": "code",
        "outputId": "1f70fe7e-5e03-4c2d-ba9e-57396a562f66",
        "colab": {
          "base_uri": "https://localhost:8080/",
          "height": 86
        }
      },
      "source": [
        "FourPresidents['End Date'].value_counts().head(3)"
      ],
      "execution_count": 0,
      "outputs": [
        {
          "output_type": "execute_result",
          "data": {
            "text/plain": [
              "2013-10-10    2\n",
              "2014-08-11    1\n",
              "2011-06-26    1\n",
              "Name: End Date, dtype: int64"
            ]
          },
          "metadata": {
            "tags": []
          },
          "execution_count": 43
        }
      ]
    },
    {
      "cell_type": "markdown",
      "metadata": {
        "id": "XPjtbUyEySwN",
        "colab_type": "text"
      },
      "source": [
        "Eliminamos lods datos que esten duplicados."
      ]
    },
    {
      "cell_type": "code",
      "metadata": {
        "id": "c5lf0WSDnXzr",
        "colab_type": "code",
        "outputId": "98b46af8-68fd-4d1d-9435-c87d0166d702",
        "colab": {
          "base_uri": "https://localhost:8080/",
          "height": 104
        }
      },
      "source": [
        "FourPresidents=FourPresidents.drop_duplicates(subset='End Date')\n",
        "FourPresidents['President'].value_counts()"
      ],
      "execution_count": 0,
      "outputs": [
        {
          "output_type": "execute_result",
          "data": {
            "text/plain": [
              "Barak Obama             2786\n",
              "Donald Trump             127\n",
              "Dwight D. Eisenhower     115\n",
              "John F. Kennedy           39\n",
              "Name: President, dtype: int64"
            ]
          },
          "metadata": {
            "tags": []
          },
          "execution_count": 45
        }
      ]
    },
    {
      "cell_type": "code",
      "metadata": {
        "id": "W18RMhVJol-o",
        "colab_type": "code",
        "outputId": "5eddfb56-d491-46b7-8fca-ccef2c1710fb",
        "colab": {
          "base_uri": "https://localhost:8080/",
          "height": 296
        }
      },
      "source": [
        "from matplotlib import cm\n",
        "fig,ax=plt.subplots(figsize=(16,6))\n",
        "styles=['.','-',':','*']\n",
        "colors=[.9,.3,.7,.3,.9]\n",
        "groups=FourPresidents.groupby('President',sort=False)\n",
        "for style, color, (pres,df) in zip(styles,colors,groups):\n",
        "                    df.plot('End Date','Approving',ax=ax,label=pres,style=style,\n",
        "                            color=cm.Greys(color),title='Presidential Aproval Rating')"
      ],
      "execution_count": 0,
      "outputs": [
        {
          "output_type": "display_data",
          "data": {
            "image/png": "[encoded data removed]",
            "text/plain": [
              "<Figure size 1152x432 with 1 Axes>"
            ]
          },
          "metadata": {
            "tags": []
          }
        }
      ]
    },
    {
      "cell_type": "code",
      "metadata": {
        "id": "bWjz289Yr_PR",
        "colab_type": "code",
        "outputId": "e1c47cc9-ffd0-4f3f-94f8-d9dd2ddc982e",
        "colab": {
          "base_uri": "https://localhost:8080/",
          "height": 312
        }
      },
      "source": [
        "Obj90Days=FourPresidents.groupby('President',sort=False).rolling('90D',on='End Date')['Approving'].mean()\n",
        "Obj90Days.head(15)"
      ],
      "execution_count": 0,
      "outputs": [
        {
          "output_type": "execute_result",
          "data": {
            "text/plain": [
              "President     End Date  \n",
              "Donald Trump  2020-03-22    49.000000\n",
              "              2020-03-13    46.500000\n",
              "              2020-02-28    46.666667\n",
              "              2020-02-16    47.250000\n",
              "              2020-01-29    47.600000\n",
              "              2020-01-15    47.000000\n",
              "              2019-12-15    46.333333\n",
              "              2019-11-14    45.250000\n",
              "              2019-10-31    43.250000\n",
              "              2019-10-13    42.000000\n",
              "              2019-09-30    41.600000\n",
              "              2019-09-15    41.200000\n",
              "              2019-08-30    40.833333\n",
              "              2019-08-14    40.500000\n",
              "              2019-07-31    40.666667\n",
              "Name: Approving, dtype: float64"
            ]
          },
          "metadata": {
            "tags": []
          },
          "execution_count": 53
        }
      ]
    },
    {
      "cell_type": "code",
      "metadata": {
        "id": "F0mFedjKs3eR",
        "colab_type": "code",
        "outputId": "db964592-6590-49da-be7e-a732ecca3d18",
        "colab": {
          "base_uri": "https://localhost:8080/",
          "height": 312
        }
      },
      "source": [
        "Obj50Days=FourPresidents.groupby('President',sort=False).rolling('50D',on='End Date')['Approving'].mean()\n",
        "Obj50Days.head(15)"
      ],
      "execution_count": 0,
      "outputs": [
        {
          "output_type": "execute_result",
          "data": {
            "text/plain": [
              "President     End Date  \n",
              "Donald Trump  2020-03-22    49.000000\n",
              "              2020-03-13    46.500000\n",
              "              2020-02-28    46.666667\n",
              "              2020-02-16    47.250000\n",
              "              2020-01-29    47.250000\n",
              "              2020-01-15    47.250000\n",
              "              2019-12-15    46.000000\n",
              "              2019-11-14    44.000000\n",
              "              2019-10-31    43.000000\n",
              "              2019-10-13    41.000000\n",
              "              2019-09-30    40.750000\n",
              "              2019-09-15    40.750000\n",
              "              2019-08-30    40.250000\n",
              "              2019-08-14    40.750000\n",
              "              2019-07-31    41.250000\n",
              "Name: Approving, dtype: float64"
            ]
          },
          "metadata": {
            "tags": []
          },
          "execution_count": 54
        }
      ]
    },
    {
      "cell_type": "code",
      "metadata": {
        "id": "Kk6kpa1TwEYF",
        "colab_type": "code",
        "colab": {}
      },
      "source": [
        "# https://medium.com/datactw/imdb-dataset-visualization-data-analytics-using-pandas-97b5c6f03c6d\n",
        "# https://www.kaggle.com/danofer/movies-data-clean\n",
        "# https://github.com/Hindhuja-Gutha/Investigate_TMDB_Movie_data_set\n",
        "# https://books.google.com.co/books?id=_NCBDwAAQBAJ&pg=PA617&lpg=PA617&dq=colors%3D+.9+.3+.7+.3+.9+python+matplotlib&source=bl&ots=Q1IZALIPsE&sig=ACfU3U1H1RI57UvvP_o2IyE5JDgSVRj1nw&hl=es&sa=X&ved=2ahUKEwjQgrqR3sXoAhXPnOAKHSRkBgUQ6AEwAHoECAwQLg#v=onepage&q=colors%3D%20.9%20.3%20.7%20.3%20.9%20python%20matplotlib&f=false"
      ],
      "execution_count": 0,
      "outputs": []
    }
  ]
}