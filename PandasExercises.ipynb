{
  "nbformat": 4,
  "nbformat_minor": 0,
  "metadata": {
    "colab": {
      "name": "PandasExercises.ipynb",
      "provenance": [],
      "toc_visible": true,
      "authorship_tag": "ABX9TyNI6Pf/+5QGDFq1jEztt2Rd",
      "include_colab_link": true
    },
    "kernelspec": {
      "name": "python3",
      "display_name": "Python 3"
    }
  },
  "cells": [
    {
      "cell_type": "markdown",
      "metadata": {
        "id": "view-in-github",
        "colab_type": "text"
      },
      "source": [
        "<a href=\"https://colab.research.google.com/github/NicoPatalagua/Pandas/blob/master/PandasExercises.ipynb\" target=\"_parent\"><img src=\"https://colab.research.google.com/assets/colab-badge.svg\" alt=\"Open In Colab\"/></a>"
      ]
    },
    {
      "cell_type": "markdown",
      "metadata": {
        "id": "g9oIU5vLaWcV",
        "colab_type": "text"
      },
      "source": [
        "# **Pandas Exercises**\n",
        "## *Patalagua Suárez Nicolás*\n",
        "### Universidad Sergio Arboleda"
      ]
    },
    {
      "cell_type": "markdown",
      "metadata": {
        "id": "FRthrcCujQBG",
        "colab_type": "text"
      },
      "source": [
        "### ***What is Pandas?***\n",
        "\n",
        "In Computing and Data Science, pandas is a software library written as an extension to NumPy for data manipulation and analysis for the Python programming language. In particular, it offers data structures and operations for number tables and time series. It is free software distributed under the BSD version three clauses license.\n",
        "\n",
        " https://pandas.pydata.org/"
      ]
    },
    {
      "cell_type": "markdown",
      "metadata": {
        "id": "EZv5V2HaoW2f",
        "colab_type": "text"
      },
      "source": [
        "### ***What is Numpy?***\n",
        "\n",
        "NumPy is a Python extension, which adds more support for vectors and matrices, constituting a library of high-level mathematical functions to operate with those vectors or matrices. NumPy's ancestor Numeric was originally created by Jim Hugunin with some contributions from other developers. In 2005 Travis Oliphant created NumPy incorporating Numarray features into NumPy with some modifications.\n",
        "\n",
        "\n",
        " https://numpy.org/"
      ]
    },
    {
      "cell_type": "markdown",
      "metadata": {
        "id": "Pqi3600Xj2mw",
        "colab_type": "text"
      },
      "source": [
        "### ***Repository***\n",
        "This work was done taking into account the repository https://github.com/guipsamora/pandas_exercises, developed by Guilherme Samora, who is a Senior Product Manager at the Global Savings Group in Munich - Germany."
      ]
    },
    {
      "cell_type": "markdown",
      "metadata": {
        "id": "psIVL8iuknAb",
        "colab_type": "text"
      },
      "source": [
        "## ***Getting and knowing***"
      ]
    },
    {
      "cell_type": "markdown",
      "metadata": {
        "id": "-uHE_02RmlGL",
        "colab_type": "text"
      },
      "source": [
        "### ***Chiotle***"
      ]
    },
    {
      "cell_type": "markdown",
      "metadata": {
        "id": "ospPUT1vnC-m",
        "colab_type": "text"
      },
      "source": [
        "Dataset and materials: https://github.com/justmarkham "
      ]
    },
    {
      "cell_type": "markdown",
      "metadata": {
        "id": "x_uOsBoanKK2",
        "colab_type": "text"
      },
      "source": [
        "**Step 1.** *Import the necessary libraries*"
      ]
    },
    {
      "cell_type": "code",
      "metadata": {
        "id": "n0p8fbmAoGbz",
        "colab_type": "code",
        "colab": {}
      },
      "source": [
        "#Import the pandas library and assign it to the variable pd\n",
        "import pandas as pd\n",
        "#Import the numpy library and assign it to the variable np\n",
        "import numpy as np"
      ],
      "execution_count": 0,
      "outputs": []
    },
    {
      "cell_type": "markdown",
      "metadata": {
        "id": "3roER5CunRhZ",
        "colab_type": "text"
      },
      "source": [
        "**Step 2.** *Import the dataset from this address.*\n"
      ]
    },
    {
      "cell_type": "code",
      "metadata": {
        "id": "H4RLkWlaoONk",
        "colab_type": "code",
        "colab": {}
      },
      "source": [
        "#Assign the dataset variable the path of the repository where the file to be used is\n",
        "dataset = 'https://raw.githubusercontent.com/justmarkham/DAT8/master/data/chipotle.tsv'"
      ],
      "execution_count": 0,
      "outputs": []
    },
    {
      "cell_type": "markdown",
      "metadata": {
        "id": "5EvOEYBbnRYz",
        "colab_type": "text"
      },
      "source": [
        "**Step 3.** *Assign it to a variable called chipo.*"
      ]
    },
    {
      "cell_type": "code",
      "metadata": {
        "id": "9zmztmaBpcFY",
        "colab_type": "code",
        "colab": {}
      },
      "source": [
        "#Create the variable chipo\n",
        "chipo = pd.read_csv(dataset, sep = '\\t')"
      ],
      "execution_count": 0,
      "outputs": []
    },
    {
      "cell_type": "markdown",
      "metadata": {
        "id": "FxsOLgT5nRPb",
        "colab_type": "text"
      },
      "source": [
        "**Step 4.** *See the first 10 entries.*"
      ]
    },
    {
      "cell_type": "code",
      "metadata": {
        "id": "3513FG8vpoTq",
        "colab_type": "code",
        "outputId": "d5f9e44c-e060-453f-a4e9-431959cf7030",
        "colab": {
          "base_uri": "https://localhost:8080/",
          "height": 467
        }
      },
      "source": [
        "#With head we show a specific amount of data\n",
        "chipo.head(10)"
      ],
      "execution_count": 6,
      "outputs": [
        {
          "output_type": "execute_result",
          "data": {
            "text/html": [
              "<div>\n",
              "<style scoped>\n",
              "    .dataframe tbody tr th:only-of-type {\n",
              "        vertical-align: middle;\n",
              "    }\n",
              "\n",
              "    .dataframe tbody tr th {\n",
              "        vertical-align: top;\n",
              "    }\n",
              "\n",
              "    .dataframe thead th {\n",
              "        text-align: right;\n",
              "    }\n",
              "</style>\n",
              "<table border=\"1\" class=\"dataframe\">\n",
              "  <thead>\n",
              "    <tr style=\"text-align: right;\">\n",
              "      <th></th>\n",
              "      <th>order_id</th>\n",
              "      <th>quantity</th>\n",
              "      <th>item_name</th>\n",
              "      <th>choice_description</th>\n",
              "      <th>item_price</th>\n",
              "    </tr>\n",
              "  </thead>\n",
              "  <tbody>\n",
              "    <tr>\n",
              "      <th>0</th>\n",
              "      <td>1</td>\n",
              "      <td>1</td>\n",
              "      <td>Chips and Fresh Tomato Salsa</td>\n",
              "      <td>NaN</td>\n",
              "      <td>$2.39</td>\n",
              "    </tr>\n",
              "    <tr>\n",
              "      <th>1</th>\n",
              "      <td>1</td>\n",
              "      <td>1</td>\n",
              "      <td>Izze</td>\n",
              "      <td>[Clementine]</td>\n",
              "      <td>$3.39</td>\n",
              "    </tr>\n",
              "    <tr>\n",
              "      <th>2</th>\n",
              "      <td>1</td>\n",
              "      <td>1</td>\n",
              "      <td>Nantucket Nectar</td>\n",
              "      <td>[Apple]</td>\n",
              "      <td>$3.39</td>\n",
              "    </tr>\n",
              "    <tr>\n",
              "      <th>3</th>\n",
              "      <td>1</td>\n",
              "      <td>1</td>\n",
              "      <td>Chips and Tomatillo-Green Chili Salsa</td>\n",
              "      <td>NaN</td>\n",
              "      <td>$2.39</td>\n",
              "    </tr>\n",
              "    <tr>\n",
              "      <th>4</th>\n",
              "      <td>2</td>\n",
              "      <td>2</td>\n",
              "      <td>Chicken Bowl</td>\n",
              "      <td>[Tomatillo-Red Chili Salsa (Hot), [Black Beans...</td>\n",
              "      <td>$16.98</td>\n",
              "    </tr>\n",
              "    <tr>\n",
              "      <th>5</th>\n",
              "      <td>3</td>\n",
              "      <td>1</td>\n",
              "      <td>Chicken Bowl</td>\n",
              "      <td>[Fresh Tomato Salsa (Mild), [Rice, Cheese, Sou...</td>\n",
              "      <td>$10.98</td>\n",
              "    </tr>\n",
              "    <tr>\n",
              "      <th>6</th>\n",
              "      <td>3</td>\n",
              "      <td>1</td>\n",
              "      <td>Side of Chips</td>\n",
              "      <td>NaN</td>\n",
              "      <td>$1.69</td>\n",
              "    </tr>\n",
              "    <tr>\n",
              "      <th>7</th>\n",
              "      <td>4</td>\n",
              "      <td>1</td>\n",
              "      <td>Steak Burrito</td>\n",
              "      <td>[Tomatillo Red Chili Salsa, [Fajita Vegetables...</td>\n",
              "      <td>$11.75</td>\n",
              "    </tr>\n",
              "    <tr>\n",
              "      <th>8</th>\n",
              "      <td>4</td>\n",
              "      <td>1</td>\n",
              "      <td>Steak Soft Tacos</td>\n",
              "      <td>[Tomatillo Green Chili Salsa, [Pinto Beans, Ch...</td>\n",
              "      <td>$9.25</td>\n",
              "    </tr>\n",
              "    <tr>\n",
              "      <th>9</th>\n",
              "      <td>5</td>\n",
              "      <td>1</td>\n",
              "      <td>Steak Burrito</td>\n",
              "      <td>[Fresh Tomato Salsa, [Rice, Black Beans, Pinto...</td>\n",
              "      <td>$9.25</td>\n",
              "    </tr>\n",
              "  </tbody>\n",
              "</table>\n",
              "</div>"
            ],
            "text/plain": [
              "   order_id  ...  item_price\n",
              "0         1  ...      $2.39 \n",
              "1         1  ...      $3.39 \n",
              "2         1  ...      $3.39 \n",
              "3         1  ...      $2.39 \n",
              "4         2  ...     $16.98 \n",
              "5         3  ...     $10.98 \n",
              "6         3  ...      $1.69 \n",
              "7         4  ...     $11.75 \n",
              "8         4  ...      $9.25 \n",
              "9         5  ...      $9.25 \n",
              "\n",
              "[10 rows x 5 columns]"
            ]
          },
          "metadata": {
            "tags": []
          },
          "execution_count": 6
        }
      ]
    },
    {
      "cell_type": "markdown",
      "metadata": {
        "id": "iwI97l72nRGz",
        "colab_type": "text"
      },
      "source": [
        "**Step 5.** *What is the number of observations in the dataset?*"
      ]
    },
    {
      "cell_type": "code",
      "metadata": {
        "id": "xsKOoJmysG28",
        "colab_type": "code",
        "outputId": "b1df96f4-7cb8-4c1c-a98f-b1d88daf4e0c",
        "colab": {
          "base_uri": "https://localhost:8080/",
          "height": 36
        }
      },
      "source": [
        "#With shape with a 0 we can show the number of rows in the file\n",
        "chipo.shape[0]"
      ],
      "execution_count": 8,
      "outputs": [
        {
          "output_type": "execute_result",
          "data": {
            "text/plain": [
              "4622"
            ]
          },
          "metadata": {
            "tags": []
          },
          "execution_count": 8
        }
      ]
    },
    {
      "cell_type": "markdown",
      "metadata": {
        "id": "m-Og611xnQ9l",
        "colab_type": "text"
      },
      "source": [
        "**Step 6.** *What is the number of columns in the dataset?*"
      ]
    },
    {
      "cell_type": "code",
      "metadata": {
        "id": "wHBbthd5sHjQ",
        "colab_type": "code",
        "outputId": "8320b876-c4cb-426e-a67c-3ff489586815",
        "colab": {
          "base_uri": "https://localhost:8080/",
          "height": 36
        }
      },
      "source": [
        "#With shape with a 1 we can show the number of columns in the file\n",
        "chipo.shape[1]"
      ],
      "execution_count": 9,
      "outputs": [
        {
          "output_type": "execute_result",
          "data": {
            "text/plain": [
              "5"
            ]
          },
          "metadata": {
            "tags": []
          },
          "execution_count": 9
        }
      ]
    },
    {
      "cell_type": "markdown",
      "metadata": {
        "id": "ea3Wz3s1nQ0O",
        "colab_type": "text"
      },
      "source": [
        "**Step 7.** *Print the name of all the columns.*"
      ]
    },
    {
      "cell_type": "code",
      "metadata": {
        "id": "tiCaCLx0sIHq",
        "colab_type": "code",
        "outputId": "6a686e59-586c-4162-ae6e-3ddac813b3d4",
        "colab": {
          "base_uri": "https://localhost:8080/",
          "height": 73
        }
      },
      "source": [
        "#If we add columns to the variable that reads the file, it prints the name of the columns\n",
        "chipo.columns"
      ],
      "execution_count": 11,
      "outputs": [
        {
          "output_type": "execute_result",
          "data": {
            "text/plain": [
              "Index(['order_id', 'quantity', 'item_name', 'choice_description',\n",
              "       'item_price'],\n",
              "      dtype='object')"
            ]
          },
          "metadata": {
            "tags": []
          },
          "execution_count": 11
        }
      ]
    },
    {
      "cell_type": "markdown",
      "metadata": {
        "id": "WflTG3r_nQq1",
        "colab_type": "text"
      },
      "source": [
        "**Step 8.** *How is the dataset indexed?*"
      ]
    },
    {
      "cell_type": "code",
      "metadata": {
        "id": "3QkRSjCzsImZ",
        "colab_type": "code",
        "outputId": "59e0d12e-ebbb-402b-c276-f4343e9164ec",
        "colab": {
          "base_uri": "https://localhost:8080/",
          "height": 36
        }
      },
      "source": [
        "#The index method returns the number of indexes of the variable\n",
        "chipo.index"
      ],
      "execution_count": 13,
      "outputs": [
        {
          "output_type": "execute_result",
          "data": {
            "text/plain": [
              "RangeIndex(start=0, stop=4622, step=1)"
            ]
          },
          "metadata": {
            "tags": []
          },
          "execution_count": 13
        }
      ]
    },
    {
      "cell_type": "markdown",
      "metadata": {
        "id": "mkLBbhnhnQgX",
        "colab_type": "text"
      },
      "source": [
        "**Step 9.** *Which was the most-ordered item?*"
      ]
    },
    {
      "cell_type": "code",
      "metadata": {
        "id": "izubj3VmsJFK",
        "colab_type": "code",
        "outputId": "da38934c-6b01-4c34-c23f-7010ec84b1fa",
        "colab": {
          "base_uri": "https://localhost:8080/",
          "height": 36
        }
      },
      "source": [
        "#Group by items with groupby,Sum the grouped data with the previous method \n",
        "#and Order the values ​​by quantity\n",
        "ObjItem= chipo.groupby('item_name').sum().sort_values(['quantity'], ascending=False)\n",
        "#Print the Item most-ordered\n",
        "ObjItem.iloc[0,0:0] "
      ],
      "execution_count": 14,
      "outputs": [
        {
          "output_type": "execute_result",
          "data": {
            "text/plain": [
              "Series([], Name: Chicken Bowl, dtype: int64)"
            ]
          },
          "metadata": {
            "tags": []
          },
          "execution_count": 14
        }
      ]
    },
    {
      "cell_type": "markdown",
      "metadata": {
        "id": "NOZbeF7CnQWD",
        "colab_type": "text"
      },
      "source": [
        "**Step 10.** *For the most-ordered item, how many items were ordered?*"
      ]
    },
    {
      "cell_type": "code",
      "metadata": {
        "id": "rhlmyhGBsJ9-",
        "colab_type": "code",
        "outputId": "b6c233c2-cea5-47ad-cbb4-07227729d34c",
        "colab": {
          "base_uri": "https://localhost:8080/",
          "height": 36
        }
      },
      "source": [
        "#Print Quantity of ordered items\n",
        "ObjItem.iloc[0,1] "
      ],
      "execution_count": 15,
      "outputs": [
        {
          "output_type": "execute_result",
          "data": {
            "text/plain": [
              "761"
            ]
          },
          "metadata": {
            "tags": []
          },
          "execution_count": 15
        }
      ]
    },
    {
      "cell_type": "markdown",
      "metadata": {
        "id": "gkdcK2tmnQJg",
        "colab_type": "text"
      },
      "source": [
        "**Step 11.** *What was the most ordered item in the choice_description column?*"
      ]
    },
    {
      "cell_type": "code",
      "metadata": {
        "id": "iYDjUgbvsKkg",
        "colab_type": "code",
        "outputId": "32918975-027b-498b-df94-1067cd26fdfb",
        "colab": {
          "base_uri": "https://localhost:8080/",
          "height": 54
        }
      },
      "source": [
        "#Group by items with groupby,Sum the grouped data with the previous method \n",
        "#and Order the values ​​by quantity\n",
        "ObjItem= chipo.groupby('choice_description').sum().sort_values(['quantity'], ascending=False)\n",
        "#Print the Item most-ordered\n",
        "ObjItem.iloc[0,0:1] "
      ],
      "execution_count": 0,
      "outputs": [
        {
          "output_type": "execute_result",
          "data": {
            "text/plain": [
              "order_id    123455\n",
              "Name: [Diet Coke], dtype: int64"
            ]
          },
          "metadata": {
            "tags": []
          },
          "execution_count": 165
        }
      ]
    },
    {
      "cell_type": "markdown",
      "metadata": {
        "id": "8fl3erFcnP_i",
        "colab_type": "text"
      },
      "source": [
        "**Step 12.** *How many items were orderd in total?*"
      ]
    },
    {
      "cell_type": "code",
      "metadata": {
        "id": "hIh-yZ65sLOE",
        "colab_type": "code",
        "outputId": "4a4c9cb6-bfcc-45b1-802c-492d950f3bd5",
        "colab": {
          "base_uri": "https://localhost:8080/",
          "height": 36
        }
      },
      "source": [
        "#Count the quantity of items ordered with the quantity column\n",
        "chipo.quantity.sum()"
      ],
      "execution_count": 0,
      "outputs": [
        {
          "output_type": "execute_result",
          "data": {
            "text/plain": [
              "4972"
            ]
          },
          "metadata": {
            "tags": []
          },
          "execution_count": 133
        }
      ]
    },
    {
      "cell_type": "markdown",
      "metadata": {
        "id": "mBEJWnC2nP1w",
        "colab_type": "text"
      },
      "source": [
        "**Step 13.** *Turn the item price into a float.*"
      ]
    },
    {
      "cell_type": "markdown",
      "metadata": {
        "id": "we-hYs1GrNQk",
        "colab_type": "text"
      },
      "source": [
        "> **a.** *Check the item price type.*\n",
        "\n"
      ]
    },
    {
      "cell_type": "code",
      "metadata": {
        "id": "S_bofPqIsNZS",
        "colab_type": "code",
        "outputId": "45ebb8cf-673a-4f67-a2ad-2e696196c928",
        "colab": {
          "base_uri": "https://localhost:8080/",
          "height": 36
        }
      },
      "source": [
        "#with the dtype method we return the data type of the selected column\n",
        "chipo.item_price.dtype"
      ],
      "execution_count": 0,
      "outputs": [
        {
          "output_type": "execute_result",
          "data": {
            "text/plain": [
              "dtype('O')"
            ]
          },
          "metadata": {
            "tags": []
          },
          "execution_count": 178
        }
      ]
    },
    {
      "cell_type": "markdown",
      "metadata": {
        "id": "5g5-bXoyrNB8",
        "colab_type": "text"
      },
      "source": [
        "\n",
        "\n",
        "> **b.** *Create a lambda function and change the type of item price.*\n",
        "\n"
      ]
    },
    {
      "cell_type": "code",
      "metadata": {
        "id": "tVAa5S1vsOBY",
        "colab_type": "code",
        "colab": {}
      },
      "source": [
        "#Assign the column itemprice to chipo and later we apply the lambda function\n",
        "chipo.item_price=chipo.item_price.apply(lambda x: float(x[1:-1]))"
      ],
      "execution_count": 0,
      "outputs": []
    },
    {
      "cell_type": "markdown",
      "metadata": {
        "id": "6qhxcRgorijl",
        "colab_type": "text"
      },
      "source": [
        "\n",
        ">**c.** *Check the item price type.*\n",
        "\n"
      ]
    },
    {
      "cell_type": "code",
      "metadata": {
        "id": "KRBGaBBQIEoo",
        "colab_type": "code",
        "outputId": "668ee05f-2f15-4397-8917-4706c6765bd1",
        "colab": {
          "base_uri": "https://localhost:8080/",
          "height": 36
        }
      },
      "source": [
        "#recheck data type\n",
        "chipo.item_price.dtype"
      ],
      "execution_count": 0,
      "outputs": [
        {
          "output_type": "execute_result",
          "data": {
            "text/plain": [
              "dtype('float64')"
            ]
          },
          "metadata": {
            "tags": []
          },
          "execution_count": 180
        }
      ]
    },
    {
      "cell_type": "markdown",
      "metadata": {
        "id": "yguBVN2DnPsx",
        "colab_type": "text"
      },
      "source": [
        "**Step 14.** *How much was the revenue for the period in the dataset?*"
      ]
    },
    {
      "cell_type": "code",
      "metadata": {
        "id": "DH6GpixtsO_S",
        "colab_type": "code",
        "outputId": "5a3d96ce-243b-41a8-8163-ca8ca5b6c278",
        "colab": {
          "base_uri": "https://localhost:8080/",
          "height": 36
        }
      },
      "source": [
        "#We multiply the quantity by the price and add the result\n",
        "(chipo['quantity']*chipo['item_price']).sum()"
      ],
      "execution_count": 0,
      "outputs": [
        {
          "output_type": "execute_result",
          "data": {
            "text/plain": [
              "39237.02"
            ]
          },
          "metadata": {
            "tags": []
          },
          "execution_count": 186
        }
      ]
    },
    {
      "cell_type": "markdown",
      "metadata": {
        "id": "sv_UDSwMnPjq",
        "colab_type": "text"
      },
      "source": [
        "**Step 15.** *How many orders were made in the period?*"
      ]
    },
    {
      "cell_type": "code",
      "metadata": {
        "id": "PhRH3l2rsPkB",
        "colab_type": "code",
        "outputId": "494249c6-23a2-4bb4-8eb1-1c228b8d3075",
        "colab": {
          "base_uri": "https://localhost:8080/",
          "height": 36
        }
      },
      "source": [
        "#Count the number of order data with valuecounts\n",
        "#With count return the length that corresponds to the number of orders\n",
        "chipo.order_id.value_counts().count()"
      ],
      "execution_count": 0,
      "outputs": [
        {
          "output_type": "execute_result",
          "data": {
            "text/plain": [
              "1834"
            ]
          },
          "metadata": {
            "tags": []
          },
          "execution_count": 197
        }
      ]
    },
    {
      "cell_type": "markdown",
      "metadata": {
        "id": "UCcoqdj1nPY-",
        "colab_type": "text"
      },
      "source": [
        "**Step 16.** *What is the average revenue amount per order?*"
      ]
    },
    {
      "cell_type": "code",
      "metadata": {
        "id": "WY1U2AEPsQLY",
        "colab_type": "code",
        "outputId": "2d24a309-fca2-4f54-ad61-f834bdf4f467",
        "colab": {
          "base_uri": "https://localhost:8080/",
          "height": 36
        }
      },
      "source": [
        "#With the group method ordered by order_id, \n",
        "#Add the data and get the average (Specify revenue)\n",
        "chipo.groupby('order_id').sum().mean()['revenue']"
      ],
      "execution_count": 0,
      "outputs": [
        {
          "output_type": "execute_result",
          "data": {
            "text/plain": [
              "21.394231188658654"
            ]
          },
          "metadata": {
            "tags": []
          },
          "execution_count": 206
        }
      ]
    },
    {
      "cell_type": "markdown",
      "metadata": {
        "id": "oY9bZ7L0nPIa",
        "colab_type": "text"
      },
      "source": [
        "**Step 17.** *How many different items are sold?*"
      ]
    },
    {
      "cell_type": "code",
      "metadata": {
        "id": "rsvhYaAHmy9Z",
        "colab_type": "code",
        "outputId": "5495a0ff-1dd0-4503-a8c1-7e5c5e158020",
        "colab": {
          "base_uri": "https://localhost:8080/",
          "height": 36
        }
      },
      "source": [
        "#Count the number of different items \n",
        "#Count the number of items obtained\n",
        "chipo.item_name.value_counts().count()"
      ],
      "execution_count": 0,
      "outputs": [
        {
          "output_type": "execute_result",
          "data": {
            "text/plain": [
              "50"
            ]
          },
          "metadata": {
            "tags": []
          },
          "execution_count": 211
        }
      ]
    },
    {
      "cell_type": "markdown",
      "metadata": {
        "id": "4DEqYqxLmpQz",
        "colab_type": "text"
      },
      "source": [
        "### ***Occupation***"
      ]
    },
    {
      "cell_type": "markdown",
      "metadata": {
        "id": "wK2ygJ3Msekh",
        "colab_type": "text"
      },
      "source": [
        "Dataset and materials: https://github.com/justmarkham"
      ]
    },
    {
      "cell_type": "markdown",
      "metadata": {
        "id": "_a5FkpJVsfV_",
        "colab_type": "text"
      },
      "source": [
        "**Step 1.** *Import the necessary libraries.*"
      ]
    },
    {
      "cell_type": "code",
      "metadata": {
        "id": "A-m09Ro2tpJO",
        "colab_type": "code",
        "colab": {}
      },
      "source": [
        "#Import the pandas library and assign it to the variable pd\n",
        "import pandas as pd\n",
        "#Import the numpy library and assign it to the variable np\n",
        "import numpy as np"
      ],
      "execution_count": 0,
      "outputs": []
    },
    {
      "cell_type": "markdown",
      "metadata": {
        "id": "vxEpYLAqsnRM",
        "colab_type": "text"
      },
      "source": [
        "**Step 2.** *Import the dataset from this address.*"
      ]
    },
    {
      "cell_type": "code",
      "metadata": {
        "id": "4Fcalq-Mtq5A",
        "colab_type": "code",
        "colab": {}
      },
      "source": [
        "#Assign the dataset variable the path of the repository where the file to be used is\n",
        "dataset = 'https://raw.githubusercontent.com/justmarkham/DAT8/master/data/u.user'"
      ],
      "execution_count": 0,
      "outputs": []
    },
    {
      "cell_type": "markdown",
      "metadata": {
        "id": "Bo1_eBGTsnzZ",
        "colab_type": "text"
      },
      "source": [
        "**Step 3.** *Assign it to a variable called users and use the 'user_id' as index.*"
      ]
    },
    {
      "cell_type": "code",
      "metadata": {
        "id": "gYIiE4X_troj",
        "colab_type": "code",
        "colab": {}
      },
      "source": [
        "#Create the variable users and use user_id as index\n",
        "users = pd.read_csv(dataset, sep='|', index_col='user_id')"
      ],
      "execution_count": 0,
      "outputs": []
    },
    {
      "cell_type": "markdown",
      "metadata": {
        "id": "lfAMnzp1soUU",
        "colab_type": "text"
      },
      "source": [
        "**Step 4.** *See the first 25 entries.*"
      ]
    },
    {
      "cell_type": "code",
      "metadata": {
        "id": "NW6UOiVTtsR2",
        "colab_type": "code",
        "outputId": "3515ca3f-9985-4e1c-90bd-6f7cd51e8d59",
        "colab": {
          "base_uri": "https://localhost:8080/",
          "height": 865
        }
      },
      "source": [
        "#With head we show a specific amount of data\n",
        "users.head(25)"
      ],
      "execution_count": 22,
      "outputs": [
        {
          "output_type": "execute_result",
          "data": {
            "text/html": [
              "<div>\n",
              "<style scoped>\n",
              "    .dataframe tbody tr th:only-of-type {\n",
              "        vertical-align: middle;\n",
              "    }\n",
              "\n",
              "    .dataframe tbody tr th {\n",
              "        vertical-align: top;\n",
              "    }\n",
              "\n",
              "    .dataframe thead th {\n",
              "        text-align: right;\n",
              "    }\n",
              "</style>\n",
              "<table border=\"1\" class=\"dataframe\">\n",
              "  <thead>\n",
              "    <tr style=\"text-align: right;\">\n",
              "      <th></th>\n",
              "      <th>age</th>\n",
              "      <th>gender</th>\n",
              "      <th>occupation</th>\n",
              "      <th>zip_code</th>\n",
              "    </tr>\n",
              "    <tr>\n",
              "      <th>user_id</th>\n",
              "      <th></th>\n",
              "      <th></th>\n",
              "      <th></th>\n",
              "      <th></th>\n",
              "    </tr>\n",
              "  </thead>\n",
              "  <tbody>\n",
              "    <tr>\n",
              "      <th>1</th>\n",
              "      <td>24</td>\n",
              "      <td>M</td>\n",
              "      <td>technician</td>\n",
              "      <td>85711</td>\n",
              "    </tr>\n",
              "    <tr>\n",
              "      <th>2</th>\n",
              "      <td>53</td>\n",
              "      <td>F</td>\n",
              "      <td>other</td>\n",
              "      <td>94043</td>\n",
              "    </tr>\n",
              "    <tr>\n",
              "      <th>3</th>\n",
              "      <td>23</td>\n",
              "      <td>M</td>\n",
              "      <td>writer</td>\n",
              "      <td>32067</td>\n",
              "    </tr>\n",
              "    <tr>\n",
              "      <th>4</th>\n",
              "      <td>24</td>\n",
              "      <td>M</td>\n",
              "      <td>technician</td>\n",
              "      <td>43537</td>\n",
              "    </tr>\n",
              "    <tr>\n",
              "      <th>5</th>\n",
              "      <td>33</td>\n",
              "      <td>F</td>\n",
              "      <td>other</td>\n",
              "      <td>15213</td>\n",
              "    </tr>\n",
              "    <tr>\n",
              "      <th>6</th>\n",
              "      <td>42</td>\n",
              "      <td>M</td>\n",
              "      <td>executive</td>\n",
              "      <td>98101</td>\n",
              "    </tr>\n",
              "    <tr>\n",
              "      <th>7</th>\n",
              "      <td>57</td>\n",
              "      <td>M</td>\n",
              "      <td>administrator</td>\n",
              "      <td>91344</td>\n",
              "    </tr>\n",
              "    <tr>\n",
              "      <th>8</th>\n",
              "      <td>36</td>\n",
              "      <td>M</td>\n",
              "      <td>administrator</td>\n",
              "      <td>05201</td>\n",
              "    </tr>\n",
              "    <tr>\n",
              "      <th>9</th>\n",
              "      <td>29</td>\n",
              "      <td>M</td>\n",
              "      <td>student</td>\n",
              "      <td>01002</td>\n",
              "    </tr>\n",
              "    <tr>\n",
              "      <th>10</th>\n",
              "      <td>53</td>\n",
              "      <td>M</td>\n",
              "      <td>lawyer</td>\n",
              "      <td>90703</td>\n",
              "    </tr>\n",
              "    <tr>\n",
              "      <th>11</th>\n",
              "      <td>39</td>\n",
              "      <td>F</td>\n",
              "      <td>other</td>\n",
              "      <td>30329</td>\n",
              "    </tr>\n",
              "    <tr>\n",
              "      <th>12</th>\n",
              "      <td>28</td>\n",
              "      <td>F</td>\n",
              "      <td>other</td>\n",
              "      <td>06405</td>\n",
              "    </tr>\n",
              "    <tr>\n",
              "      <th>13</th>\n",
              "      <td>47</td>\n",
              "      <td>M</td>\n",
              "      <td>educator</td>\n",
              "      <td>29206</td>\n",
              "    </tr>\n",
              "    <tr>\n",
              "      <th>14</th>\n",
              "      <td>45</td>\n",
              "      <td>M</td>\n",
              "      <td>scientist</td>\n",
              "      <td>55106</td>\n",
              "    </tr>\n",
              "    <tr>\n",
              "      <th>15</th>\n",
              "      <td>49</td>\n",
              "      <td>F</td>\n",
              "      <td>educator</td>\n",
              "      <td>97301</td>\n",
              "    </tr>\n",
              "    <tr>\n",
              "      <th>16</th>\n",
              "      <td>21</td>\n",
              "      <td>M</td>\n",
              "      <td>entertainment</td>\n",
              "      <td>10309</td>\n",
              "    </tr>\n",
              "    <tr>\n",
              "      <th>17</th>\n",
              "      <td>30</td>\n",
              "      <td>M</td>\n",
              "      <td>programmer</td>\n",
              "      <td>06355</td>\n",
              "    </tr>\n",
              "    <tr>\n",
              "      <th>18</th>\n",
              "      <td>35</td>\n",
              "      <td>F</td>\n",
              "      <td>other</td>\n",
              "      <td>37212</td>\n",
              "    </tr>\n",
              "    <tr>\n",
              "      <th>19</th>\n",
              "      <td>40</td>\n",
              "      <td>M</td>\n",
              "      <td>librarian</td>\n",
              "      <td>02138</td>\n",
              "    </tr>\n",
              "    <tr>\n",
              "      <th>20</th>\n",
              "      <td>42</td>\n",
              "      <td>F</td>\n",
              "      <td>homemaker</td>\n",
              "      <td>95660</td>\n",
              "    </tr>\n",
              "    <tr>\n",
              "      <th>21</th>\n",
              "      <td>26</td>\n",
              "      <td>M</td>\n",
              "      <td>writer</td>\n",
              "      <td>30068</td>\n",
              "    </tr>\n",
              "    <tr>\n",
              "      <th>22</th>\n",
              "      <td>25</td>\n",
              "      <td>M</td>\n",
              "      <td>writer</td>\n",
              "      <td>40206</td>\n",
              "    </tr>\n",
              "    <tr>\n",
              "      <th>23</th>\n",
              "      <td>30</td>\n",
              "      <td>F</td>\n",
              "      <td>artist</td>\n",
              "      <td>48197</td>\n",
              "    </tr>\n",
              "    <tr>\n",
              "      <th>24</th>\n",
              "      <td>21</td>\n",
              "      <td>F</td>\n",
              "      <td>artist</td>\n",
              "      <td>94533</td>\n",
              "    </tr>\n",
              "    <tr>\n",
              "      <th>25</th>\n",
              "      <td>39</td>\n",
              "      <td>M</td>\n",
              "      <td>engineer</td>\n",
              "      <td>55107</td>\n",
              "    </tr>\n",
              "  </tbody>\n",
              "</table>\n",
              "</div>"
            ],
            "text/plain": [
              "         age gender     occupation zip_code\n",
              "user_id                                    \n",
              "1         24      M     technician    85711\n",
              "2         53      F          other    94043\n",
              "3         23      M         writer    32067\n",
              "4         24      M     technician    43537\n",
              "5         33      F          other    15213\n",
              "6         42      M      executive    98101\n",
              "7         57      M  administrator    91344\n",
              "8         36      M  administrator    05201\n",
              "9         29      M        student    01002\n",
              "10        53      M         lawyer    90703\n",
              "11        39      F          other    30329\n",
              "12        28      F          other    06405\n",
              "13        47      M       educator    29206\n",
              "14        45      M      scientist    55106\n",
              "15        49      F       educator    97301\n",
              "16        21      M  entertainment    10309\n",
              "17        30      M     programmer    06355\n",
              "18        35      F          other    37212\n",
              "19        40      M      librarian    02138\n",
              "20        42      F      homemaker    95660\n",
              "21        26      M         writer    30068\n",
              "22        25      M         writer    40206\n",
              "23        30      F         artist    48197\n",
              "24        21      F         artist    94533\n",
              "25        39      M       engineer    55107"
            ]
          },
          "metadata": {
            "tags": []
          },
          "execution_count": 22
        }
      ]
    },
    {
      "cell_type": "markdown",
      "metadata": {
        "id": "Sl_UhkHvsp8k",
        "colab_type": "text"
      },
      "source": [
        "**Step 5.** *See the last 10 entries.*"
      ]
    },
    {
      "cell_type": "code",
      "metadata": {
        "id": "bAOP5WxittMg",
        "colab_type": "code",
        "outputId": "3dc6b7de-6039-4315-8e44-ca4b846f2c79",
        "colab": {
          "base_uri": "https://localhost:8080/",
          "height": 395
        }
      },
      "source": [
        "#The head method returns the header, however tail returns the data at the end of a file.\n",
        "users.tail(10)"
      ],
      "execution_count": 23,
      "outputs": [
        {
          "output_type": "execute_result",
          "data": {
            "text/html": [
              "<div>\n",
              "<style scoped>\n",
              "    .dataframe tbody tr th:only-of-type {\n",
              "        vertical-align: middle;\n",
              "    }\n",
              "\n",
              "    .dataframe tbody tr th {\n",
              "        vertical-align: top;\n",
              "    }\n",
              "\n",
              "    .dataframe thead th {\n",
              "        text-align: right;\n",
              "    }\n",
              "</style>\n",
              "<table border=\"1\" class=\"dataframe\">\n",
              "  <thead>\n",
              "    <tr style=\"text-align: right;\">\n",
              "      <th></th>\n",
              "      <th>age</th>\n",
              "      <th>gender</th>\n",
              "      <th>occupation</th>\n",
              "      <th>zip_code</th>\n",
              "    </tr>\n",
              "    <tr>\n",
              "      <th>user_id</th>\n",
              "      <th></th>\n",
              "      <th></th>\n",
              "      <th></th>\n",
              "      <th></th>\n",
              "    </tr>\n",
              "  </thead>\n",
              "  <tbody>\n",
              "    <tr>\n",
              "      <th>934</th>\n",
              "      <td>61</td>\n",
              "      <td>M</td>\n",
              "      <td>engineer</td>\n",
              "      <td>22902</td>\n",
              "    </tr>\n",
              "    <tr>\n",
              "      <th>935</th>\n",
              "      <td>42</td>\n",
              "      <td>M</td>\n",
              "      <td>doctor</td>\n",
              "      <td>66221</td>\n",
              "    </tr>\n",
              "    <tr>\n",
              "      <th>936</th>\n",
              "      <td>24</td>\n",
              "      <td>M</td>\n",
              "      <td>other</td>\n",
              "      <td>32789</td>\n",
              "    </tr>\n",
              "    <tr>\n",
              "      <th>937</th>\n",
              "      <td>48</td>\n",
              "      <td>M</td>\n",
              "      <td>educator</td>\n",
              "      <td>98072</td>\n",
              "    </tr>\n",
              "    <tr>\n",
              "      <th>938</th>\n",
              "      <td>38</td>\n",
              "      <td>F</td>\n",
              "      <td>technician</td>\n",
              "      <td>55038</td>\n",
              "    </tr>\n",
              "    <tr>\n",
              "      <th>939</th>\n",
              "      <td>26</td>\n",
              "      <td>F</td>\n",
              "      <td>student</td>\n",
              "      <td>33319</td>\n",
              "    </tr>\n",
              "    <tr>\n",
              "      <th>940</th>\n",
              "      <td>32</td>\n",
              "      <td>M</td>\n",
              "      <td>administrator</td>\n",
              "      <td>02215</td>\n",
              "    </tr>\n",
              "    <tr>\n",
              "      <th>941</th>\n",
              "      <td>20</td>\n",
              "      <td>M</td>\n",
              "      <td>student</td>\n",
              "      <td>97229</td>\n",
              "    </tr>\n",
              "    <tr>\n",
              "      <th>942</th>\n",
              "      <td>48</td>\n",
              "      <td>F</td>\n",
              "      <td>librarian</td>\n",
              "      <td>78209</td>\n",
              "    </tr>\n",
              "    <tr>\n",
              "      <th>943</th>\n",
              "      <td>22</td>\n",
              "      <td>M</td>\n",
              "      <td>student</td>\n",
              "      <td>77841</td>\n",
              "    </tr>\n",
              "  </tbody>\n",
              "</table>\n",
              "</div>"
            ],
            "text/plain": [
              "         age gender     occupation zip_code\n",
              "user_id                                    \n",
              "934       61      M       engineer    22902\n",
              "935       42      M         doctor    66221\n",
              "936       24      M          other    32789\n",
              "937       48      M       educator    98072\n",
              "938       38      F     technician    55038\n",
              "939       26      F        student    33319\n",
              "940       32      M  administrator    02215\n",
              "941       20      M        student    97229\n",
              "942       48      F      librarian    78209\n",
              "943       22      M        student    77841"
            ]
          },
          "metadata": {
            "tags": []
          },
          "execution_count": 23
        }
      ]
    },
    {
      "cell_type": "markdown",
      "metadata": {
        "id": "AggGN31lsrUq",
        "colab_type": "text"
      },
      "source": [
        "**Step 6.** *What is the number of observations in the dataset?*"
      ]
    },
    {
      "cell_type": "code",
      "metadata": {
        "id": "4DwUlbTjtuLk",
        "colab_type": "code",
        "outputId": "28771075-b219-4484-a42e-e905dc5696ca",
        "colab": {
          "base_uri": "https://localhost:8080/",
          "height": 36
        }
      },
      "source": [
        "#With shape with a 0 we can show the number of rows in the file\n",
        "users.shape[0]"
      ],
      "execution_count": 24,
      "outputs": [
        {
          "output_type": "execute_result",
          "data": {
            "text/plain": [
              "943"
            ]
          },
          "metadata": {
            "tags": []
          },
          "execution_count": 24
        }
      ]
    },
    {
      "cell_type": "markdown",
      "metadata": {
        "id": "ZS24ZxnnsrzE",
        "colab_type": "text"
      },
      "source": [
        "**Step 7.** *What is the number of columns in the dataset?*"
      ]
    },
    {
      "cell_type": "code",
      "metadata": {
        "id": "a7aJW9Lrtuor",
        "colab_type": "code",
        "outputId": "92848c24-bf8b-4a0b-d511-cb58015c707b",
        "colab": {
          "base_uri": "https://localhost:8080/",
          "height": 36
        }
      },
      "source": [
        "#With shape with a 1 we can show the number of columns in the file\n",
        "users.shape[1]"
      ],
      "execution_count": 25,
      "outputs": [
        {
          "output_type": "execute_result",
          "data": {
            "text/plain": [
              "4"
            ]
          },
          "metadata": {
            "tags": []
          },
          "execution_count": 25
        }
      ]
    },
    {
      "cell_type": "markdown",
      "metadata": {
        "id": "HXDpZ0aissT6",
        "colab_type": "text"
      },
      "source": [
        "**Step 8.** *Print the name of all the columns.*"
      ]
    },
    {
      "cell_type": "code",
      "metadata": {
        "id": "BM7vtJA_tu7-",
        "colab_type": "code",
        "outputId": "1db71a04-578e-40ce-e019-2e54ed93f6bc",
        "colab": {
          "base_uri": "https://localhost:8080/",
          "height": 36
        }
      },
      "source": [
        "#If we add columns to the variable that reads the file, it prints the name of the columns\n",
        "users.columns"
      ],
      "execution_count": 26,
      "outputs": [
        {
          "output_type": "execute_result",
          "data": {
            "text/plain": [
              "Index(['age', 'gender', 'occupation', 'zip_code'], dtype='object')"
            ]
          },
          "metadata": {
            "tags": []
          },
          "execution_count": 26
        }
      ]
    },
    {
      "cell_type": "markdown",
      "metadata": {
        "id": "g76gRdOhss0i",
        "colab_type": "text"
      },
      "source": [
        "**Step 9.** *How is the dataset indexed?*"
      ]
    },
    {
      "cell_type": "code",
      "metadata": {
        "id": "9oZYDo2ltwc_",
        "colab_type": "code",
        "outputId": "03cee45a-ef2c-4454-8ba3-a148cb34e625",
        "colab": {
          "base_uri": "https://localhost:8080/",
          "height": 91
        }
      },
      "source": [
        "#The index method returns the indexing of the dataset\n",
        "users.index"
      ],
      "execution_count": 28,
      "outputs": [
        {
          "output_type": "execute_result",
          "data": {
            "text/plain": [
              "Int64Index([  1,   2,   3,   4,   5,   6,   7,   8,   9,  10,\n",
              "            ...\n",
              "            934, 935, 936, 937, 938, 939, 940, 941, 942, 943],\n",
              "           dtype='int64', name='user_id', length=943)"
            ]
          },
          "metadata": {
            "tags": []
          },
          "execution_count": 28
        }
      ]
    },
    {
      "cell_type": "markdown",
      "metadata": {
        "id": "sfeX-EZHsthv",
        "colab_type": "text"
      },
      "source": [
        "**Step 10.** *What is the data type of each column?*"
      ]
    },
    {
      "cell_type": "code",
      "metadata": {
        "id": "2aKFIlc-tw_g",
        "colab_type": "code",
        "colab": {
          "base_uri": "https://localhost:8080/",
          "height": 110
        },
        "outputId": "02d89a40-54f0-4ec6-b91c-2dc65c92aaac"
      },
      "source": [
        "#with the dtype method we return the data type of the selected column\n",
        "users.dtypes"
      ],
      "execution_count": 29,
      "outputs": [
        {
          "output_type": "execute_result",
          "data": {
            "text/plain": [
              "age            int64\n",
              "gender        object\n",
              "occupation    object\n",
              "zip_code      object\n",
              "dtype: object"
            ]
          },
          "metadata": {
            "tags": []
          },
          "execution_count": 29
        }
      ]
    },
    {
      "cell_type": "markdown",
      "metadata": {
        "id": "AaSs9J36suix",
        "colab_type": "text"
      },
      "source": [
        "**Step 11.** *Print only the occupation column.*"
      ]
    },
    {
      "cell_type": "code",
      "metadata": {
        "id": "WWq_58devUmL",
        "colab_type": "code",
        "colab": {
          "base_uri": "https://localhost:8080/",
          "height": 259
        },
        "outputId": "a9aa87e0-53d4-42f0-8987-5116ee0dc0c5"
      },
      "source": [
        "#the required column can be called as a method to return it\n",
        "users.occupation"
      ],
      "execution_count": 31,
      "outputs": [
        {
          "output_type": "execute_result",
          "data": {
            "text/plain": [
              "user_id\n",
              "1         technician\n",
              "2              other\n",
              "3             writer\n",
              "4         technician\n",
              "5              other\n",
              "           ...      \n",
              "939          student\n",
              "940    administrator\n",
              "941          student\n",
              "942        librarian\n",
              "943          student\n",
              "Name: occupation, Length: 943, dtype: object"
            ]
          },
          "metadata": {
            "tags": []
          },
          "execution_count": 31
        }
      ]
    },
    {
      "cell_type": "markdown",
      "metadata": {
        "id": "Ba1MYe7dsvFK",
        "colab_type": "text"
      },
      "source": [
        "**Step 12.** *How many different occupations are in this dataset?*"
      ]
    },
    {
      "cell_type": "code",
      "metadata": {
        "id": "G2p9xpyKvUKj",
        "colab_type": "code",
        "colab": {
          "base_uri": "https://localhost:8080/",
          "height": 36
        },
        "outputId": "e668270a-178c-40fa-c6a9-1066301d8603"
      },
      "source": [
        "#Adding the count of the differences between data to the previous query achieves what is required in this\n",
        "users.occupation.value_counts().count()"
      ],
      "execution_count": 33,
      "outputs": [
        {
          "output_type": "execute_result",
          "data": {
            "text/plain": [
              "21"
            ]
          },
          "metadata": {
            "tags": []
          },
          "execution_count": 33
        }
      ]
    },
    {
      "cell_type": "markdown",
      "metadata": {
        "id": "Kap06PJBsvz1",
        "colab_type": "text"
      },
      "source": [
        "**Step 13.** *What is the most frequent occupation?*"
      ]
    },
    {
      "cell_type": "code",
      "metadata": {
        "id": "OhI6FoIYvTxD",
        "colab_type": "code",
        "colab": {
          "base_uri": "https://localhost:8080/",
          "height": 129
        },
        "outputId": "d6b84c40-8f6e-4811-b883-cdff88e6861a"
      },
      "source": [
        "#Show the header of the previous command\n",
        "users.occupation.value_counts().head()"
      ],
      "execution_count": 36,
      "outputs": [
        {
          "output_type": "execute_result",
          "data": {
            "text/plain": [
              "student          196\n",
              "other            105\n",
              "educator          95\n",
              "administrator     79\n",
              "engineer          67\n",
              "Name: occupation, dtype: int64"
            ]
          },
          "metadata": {
            "tags": []
          },
          "execution_count": 36
        }
      ]
    },
    {
      "cell_type": "markdown",
      "metadata": {
        "id": "m8iABcWoswiB",
        "colab_type": "text"
      },
      "source": [
        "**Step 14.** *Summarize the DataFrame.*"
      ]
    },
    {
      "cell_type": "code",
      "metadata": {
        "id": "wz5CKVdAvTJg",
        "colab_type": "code",
        "colab": {
          "base_uri": "https://localhost:8080/",
          "height": 301
        },
        "outputId": "919aa148-266e-4135-ffe5-dd472fa33371"
      },
      "source": [
        "#With the describe method, this information is obtained\n",
        "users.describe()"
      ],
      "execution_count": 37,
      "outputs": [
        {
          "output_type": "execute_result",
          "data": {
            "text/html": [
              "<div>\n",
              "<style scoped>\n",
              "    .dataframe tbody tr th:only-of-type {\n",
              "        vertical-align: middle;\n",
              "    }\n",
              "\n",
              "    .dataframe tbody tr th {\n",
              "        vertical-align: top;\n",
              "    }\n",
              "\n",
              "    .dataframe thead th {\n",
              "        text-align: right;\n",
              "    }\n",
              "</style>\n",
              "<table border=\"1\" class=\"dataframe\">\n",
              "  <thead>\n",
              "    <tr style=\"text-align: right;\">\n",
              "      <th></th>\n",
              "      <th>age</th>\n",
              "    </tr>\n",
              "  </thead>\n",
              "  <tbody>\n",
              "    <tr>\n",
              "      <th>count</th>\n",
              "      <td>943.000000</td>\n",
              "    </tr>\n",
              "    <tr>\n",
              "      <th>mean</th>\n",
              "      <td>34.051962</td>\n",
              "    </tr>\n",
              "    <tr>\n",
              "      <th>std</th>\n",
              "      <td>12.192740</td>\n",
              "    </tr>\n",
              "    <tr>\n",
              "      <th>min</th>\n",
              "      <td>7.000000</td>\n",
              "    </tr>\n",
              "    <tr>\n",
              "      <th>25%</th>\n",
              "      <td>25.000000</td>\n",
              "    </tr>\n",
              "    <tr>\n",
              "      <th>50%</th>\n",
              "      <td>31.000000</td>\n",
              "    </tr>\n",
              "    <tr>\n",
              "      <th>75%</th>\n",
              "      <td>43.000000</td>\n",
              "    </tr>\n",
              "    <tr>\n",
              "      <th>max</th>\n",
              "      <td>73.000000</td>\n",
              "    </tr>\n",
              "  </tbody>\n",
              "</table>\n",
              "</div>"
            ],
            "text/plain": [
              "              age\n",
              "count  943.000000\n",
              "mean    34.051962\n",
              "std     12.192740\n",
              "min      7.000000\n",
              "25%     25.000000\n",
              "50%     31.000000\n",
              "75%     43.000000\n",
              "max     73.000000"
            ]
          },
          "metadata": {
            "tags": []
          },
          "execution_count": 37
        }
      ]
    },
    {
      "cell_type": "markdown",
      "metadata": {
        "id": "gX1eNZYFsxMp",
        "colab_type": "text"
      },
      "source": [
        "**Step 15.** *Summarize all the columns.*"
      ]
    },
    {
      "cell_type": "code",
      "metadata": {
        "id": "rkpYp7AVvS38",
        "colab_type": "code",
        "colab": {
          "base_uri": "https://localhost:8080/",
          "height": 395
        },
        "outputId": "e70be885-107e-433a-b561-d3478a4c2f39"
      },
      "source": [
        "#If everything is defined for the previous query, send the detail of everything\n",
        "users.describe(include = \"all\")"
      ],
      "execution_count": 39,
      "outputs": [
        {
          "output_type": "execute_result",
          "data": {
            "text/html": [
              "<div>\n",
              "<style scoped>\n",
              "    .dataframe tbody tr th:only-of-type {\n",
              "        vertical-align: middle;\n",
              "    }\n",
              "\n",
              "    .dataframe tbody tr th {\n",
              "        vertical-align: top;\n",
              "    }\n",
              "\n",
              "    .dataframe thead th {\n",
              "        text-align: right;\n",
              "    }\n",
              "</style>\n",
              "<table border=\"1\" class=\"dataframe\">\n",
              "  <thead>\n",
              "    <tr style=\"text-align: right;\">\n",
              "      <th></th>\n",
              "      <th>age</th>\n",
              "      <th>gender</th>\n",
              "      <th>occupation</th>\n",
              "      <th>zip_code</th>\n",
              "    </tr>\n",
              "  </thead>\n",
              "  <tbody>\n",
              "    <tr>\n",
              "      <th>count</th>\n",
              "      <td>943.000000</td>\n",
              "      <td>943</td>\n",
              "      <td>943</td>\n",
              "      <td>943</td>\n",
              "    </tr>\n",
              "    <tr>\n",
              "      <th>unique</th>\n",
              "      <td>NaN</td>\n",
              "      <td>2</td>\n",
              "      <td>21</td>\n",
              "      <td>795</td>\n",
              "    </tr>\n",
              "    <tr>\n",
              "      <th>top</th>\n",
              "      <td>NaN</td>\n",
              "      <td>M</td>\n",
              "      <td>student</td>\n",
              "      <td>55414</td>\n",
              "    </tr>\n",
              "    <tr>\n",
              "      <th>freq</th>\n",
              "      <td>NaN</td>\n",
              "      <td>670</td>\n",
              "      <td>196</td>\n",
              "      <td>9</td>\n",
              "    </tr>\n",
              "    <tr>\n",
              "      <th>mean</th>\n",
              "      <td>34.051962</td>\n",
              "      <td>NaN</td>\n",
              "      <td>NaN</td>\n",
              "      <td>NaN</td>\n",
              "    </tr>\n",
              "    <tr>\n",
              "      <th>std</th>\n",
              "      <td>12.192740</td>\n",
              "      <td>NaN</td>\n",
              "      <td>NaN</td>\n",
              "      <td>NaN</td>\n",
              "    </tr>\n",
              "    <tr>\n",
              "      <th>min</th>\n",
              "      <td>7.000000</td>\n",
              "      <td>NaN</td>\n",
              "      <td>NaN</td>\n",
              "      <td>NaN</td>\n",
              "    </tr>\n",
              "    <tr>\n",
              "      <th>25%</th>\n",
              "      <td>25.000000</td>\n",
              "      <td>NaN</td>\n",
              "      <td>NaN</td>\n",
              "      <td>NaN</td>\n",
              "    </tr>\n",
              "    <tr>\n",
              "      <th>50%</th>\n",
              "      <td>31.000000</td>\n",
              "      <td>NaN</td>\n",
              "      <td>NaN</td>\n",
              "      <td>NaN</td>\n",
              "    </tr>\n",
              "    <tr>\n",
              "      <th>75%</th>\n",
              "      <td>43.000000</td>\n",
              "      <td>NaN</td>\n",
              "      <td>NaN</td>\n",
              "      <td>NaN</td>\n",
              "    </tr>\n",
              "    <tr>\n",
              "      <th>max</th>\n",
              "      <td>73.000000</td>\n",
              "      <td>NaN</td>\n",
              "      <td>NaN</td>\n",
              "      <td>NaN</td>\n",
              "    </tr>\n",
              "  </tbody>\n",
              "</table>\n",
              "</div>"
            ],
            "text/plain": [
              "               age gender occupation zip_code\n",
              "count   943.000000    943        943      943\n",
              "unique         NaN      2         21      795\n",
              "top            NaN      M    student    55414\n",
              "freq           NaN    670        196        9\n",
              "mean     34.051962    NaN        NaN      NaN\n",
              "std      12.192740    NaN        NaN      NaN\n",
              "min       7.000000    NaN        NaN      NaN\n",
              "25%      25.000000    NaN        NaN      NaN\n",
              "50%      31.000000    NaN        NaN      NaN\n",
              "75%      43.000000    NaN        NaN      NaN\n",
              "max      73.000000    NaN        NaN      NaN"
            ]
          },
          "metadata": {
            "tags": []
          },
          "execution_count": 39
        }
      ]
    },
    {
      "cell_type": "markdown",
      "metadata": {
        "id": "79Y1BeaisyBQ",
        "colab_type": "text"
      },
      "source": [
        "**Step 16.** *Summarize only the occupation column.*"
      ]
    },
    {
      "cell_type": "code",
      "metadata": {
        "id": "guIo_XYmvShn",
        "colab_type": "code",
        "colab": {
          "base_uri": "https://localhost:8080/",
          "height": 110
        },
        "outputId": "7a337296-3cd6-47b1-f562-055d8a0b9039"
      },
      "source": [
        "#Only the describe method is called\n",
        "users.occupation.describe()"
      ],
      "execution_count": 41,
      "outputs": [
        {
          "output_type": "execute_result",
          "data": {
            "text/plain": [
              "count         943\n",
              "unique         21\n",
              "top       student\n",
              "freq          196\n",
              "Name: occupation, dtype: object"
            ]
          },
          "metadata": {
            "tags": []
          },
          "execution_count": 41
        }
      ]
    },
    {
      "cell_type": "markdown",
      "metadata": {
        "id": "MqgPwIcJsypp",
        "colab_type": "text"
      },
      "source": [
        "**Step 17.** *What is the mean age of users?*"
      ]
    },
    {
      "cell_type": "code",
      "metadata": {
        "id": "iKu9JSTfvSEE",
        "colab_type": "code",
        "colab": {
          "base_uri": "https://localhost:8080/",
          "height": 36
        },
        "outputId": "c97fa2cb-fcb7-4e8a-927b-7a25d2ba3bb5"
      },
      "source": [
        "#With the age method and the average method applied to the list of users\n",
        "users.age.mean()"
      ],
      "execution_count": 45,
      "outputs": [
        {
          "output_type": "execute_result",
          "data": {
            "text/plain": [
              "34.05196182396607"
            ]
          },
          "metadata": {
            "tags": []
          },
          "execution_count": 45
        }
      ]
    },
    {
      "cell_type": "code",
      "metadata": {
        "id": "5cwpeXyYydDQ",
        "colab_type": "code",
        "colab": {
          "base_uri": "https://localhost:8080/",
          "height": 36
        },
        "outputId": "fade1e73-d8ef-4da4-c4f2-9aedcbe33ec3"
      },
      "source": [
        "#And it is rounded\n",
        "round(users.age.mean())"
      ],
      "execution_count": 46,
      "outputs": [
        {
          "output_type": "execute_result",
          "data": {
            "text/plain": [
              "34"
            ]
          },
          "metadata": {
            "tags": []
          },
          "execution_count": 46
        }
      ]
    },
    {
      "cell_type": "markdown",
      "metadata": {
        "id": "p8hLTPO_vN89",
        "colab_type": "text"
      },
      "source": [
        "**Step 18.** *What is the age with least occurrence?*"
      ]
    },
    {
      "cell_type": "code",
      "metadata": {
        "id": "S5ACpjAevRpW",
        "colab_type": "code",
        "colab": {
          "base_uri": "https://localhost:8080/",
          "height": 129
        },
        "outputId": "86e19eb1-fff0-4f0b-b5cd-82dcd997e5e1"
      },
      "source": [
        "#It is counted by age repetitions and the queue is returned from the list\n",
        "users.age.value_counts().tail()"
      ],
      "execution_count": 51,
      "outputs": [
        {
          "output_type": "execute_result",
          "data": {
            "text/plain": [
              "11    1\n",
              "10    1\n",
              "73    1\n",
              "66    1\n",
              "7     1\n",
              "Name: age, dtype: int64"
            ]
          },
          "metadata": {
            "tags": []
          },
          "execution_count": 51
        }
      ]
    },
    {
      "cell_type": "markdown",
      "metadata": {
        "id": "uBzGyhZ3muin",
        "colab_type": "text"
      },
      "source": [
        "### ***World Food Facts***"
      ]
    },
    {
      "cell_type": "markdown",
      "metadata": {
        "id": "qGIwfaGbwH1P",
        "colab_type": "text"
      },
      "source": [
        "\n",
        "**Step 1.** *Go to https://www.kaggle.com/openfoodfacts/world-food-facts/data*"
      ]
    },
    {
      "cell_type": "code",
      "metadata": {
        "id": "ZoGewtvMzPZQ",
        "colab_type": "code",
        "colab": {}
      },
      "source": [
        "#Import the pandas library and assign it to the variable pd\n",
        "import pandas as pd\n",
        "#Import the numpy library and assign it to the variable np\n",
        "import numpy as np"
      ],
      "execution_count": 0,
      "outputs": []
    },
    {
      "cell_type": "markdown",
      "metadata": {
        "id": "nb_Pkx6rwJn_",
        "colab_type": "text"
      },
      "source": [
        "**Step 2.** *Download the dataset to your computer and unzip it.*"
      ]
    },
    {
      "cell_type": "code",
      "metadata": {
        "id": "tG3n2_tK1AHF",
        "colab_type": "code",
        "colab": {}
      },
      "source": [
        "dataset='en.openfoodfacts.org.products.tsv'"
      ],
      "execution_count": 0,
      "outputs": []
    },
    {
      "cell_type": "markdown",
      "metadata": {
        "id": "vNLE9EXJwVq7",
        "colab_type": "text"
      },
      "source": [
        "**Step 3.** *Use the tsv file and assign it to a dataframe called food.*"
      ]
    },
    {
      "cell_type": "code",
      "metadata": {
        "id": "sTaKQ9bT0_gG",
        "colab_type": "code",
        "colab": {
          "base_uri": "https://localhost:8080/",
          "height": 74
        },
        "outputId": "c9762d7d-61de-452f-e4ec-1308611b6e3d"
      },
      "source": [
        "#Create the variable food\n",
        "food = pd.read_csv(dataset, sep='\\t')"
      ],
      "execution_count": 58,
      "outputs": [
        {
          "output_type": "stream",
          "text": [
            "/usr/local/lib/python3.6/dist-packages/IPython/core/interactiveshell.py:2718: DtypeWarning: Columns (19,20,24,25,26,28,37,38,39,48) have mixed types.Specify dtype option on import or set low_memory=False.\n",
            "  interactivity=interactivity, compiler=compiler, result=result)\n"
          ],
          "name": "stderr"
        }
      ]
    },
    {
      "cell_type": "markdown",
      "metadata": {
        "id": "7MeRRKHPweia",
        "colab_type": "text"
      },
      "source": [
        "**Step 4.** *See the first 5 entries.*"
      ]
    },
    {
      "cell_type": "code",
      "metadata": {
        "id": "Kb4rGNKT2DYB",
        "colab_type": "code",
        "colab": {
          "base_uri": "https://localhost:8080/",
          "height": 482
        },
        "outputId": "5e7b7644-2eb7-4a2a-fc70-fd2807e112ab"
      },
      "source": [
        "#With head we show a specific amount of data\n",
        "food.head(5)"
      ],
      "execution_count": 60,
      "outputs": [
        {
          "output_type": "execute_result",
          "data": {
            "text/html": [
              "<div>\n",
              "<style scoped>\n",
              "    .dataframe tbody tr th:only-of-type {\n",
              "        vertical-align: middle;\n",
              "    }\n",
              "\n",
              "    .dataframe tbody tr th {\n",
              "        vertical-align: top;\n",
              "    }\n",
              "\n",
              "    .dataframe thead th {\n",
              "        text-align: right;\n",
              "    }\n",
              "</style>\n",
              "<table border=\"1\" class=\"dataframe\">\n",
              "  <thead>\n",
              "    <tr style=\"text-align: right;\">\n",
              "      <th></th>\n",
              "      <th>code</th>\n",
              "      <th>url</th>\n",
              "      <th>creator</th>\n",
              "      <th>created_t</th>\n",
              "      <th>created_datetime</th>\n",
              "      <th>last_modified_t</th>\n",
              "      <th>last_modified_datetime</th>\n",
              "      <th>product_name</th>\n",
              "      <th>generic_name</th>\n",
              "      <th>quantity</th>\n",
              "      <th>packaging</th>\n",
              "      <th>packaging_tags</th>\n",
              "      <th>brands</th>\n",
              "      <th>brands_tags</th>\n",
              "      <th>categories</th>\n",
              "      <th>categories_tags</th>\n",
              "      <th>categories_en</th>\n",
              "      <th>origins</th>\n",
              "      <th>origins_tags</th>\n",
              "      <th>manufacturing_places</th>\n",
              "      <th>manufacturing_places_tags</th>\n",
              "      <th>labels</th>\n",
              "      <th>labels_tags</th>\n",
              "      <th>labels_en</th>\n",
              "      <th>emb_codes</th>\n",
              "      <th>emb_codes_tags</th>\n",
              "      <th>first_packaging_code_geo</th>\n",
              "      <th>cities</th>\n",
              "      <th>cities_tags</th>\n",
              "      <th>purchase_places</th>\n",
              "      <th>stores</th>\n",
              "      <th>countries</th>\n",
              "      <th>countries_tags</th>\n",
              "      <th>countries_en</th>\n",
              "      <th>ingredients_text</th>\n",
              "      <th>allergens</th>\n",
              "      <th>allergens_en</th>\n",
              "      <th>traces</th>\n",
              "      <th>traces_tags</th>\n",
              "      <th>traces_en</th>\n",
              "      <th>...</th>\n",
              "      <th>vitamin-k_100g</th>\n",
              "      <th>vitamin-c_100g</th>\n",
              "      <th>vitamin-b1_100g</th>\n",
              "      <th>vitamin-b2_100g</th>\n",
              "      <th>vitamin-pp_100g</th>\n",
              "      <th>vitamin-b6_100g</th>\n",
              "      <th>vitamin-b9_100g</th>\n",
              "      <th>folates_100g</th>\n",
              "      <th>vitamin-b12_100g</th>\n",
              "      <th>biotin_100g</th>\n",
              "      <th>pantothenic-acid_100g</th>\n",
              "      <th>silica_100g</th>\n",
              "      <th>bicarbonate_100g</th>\n",
              "      <th>potassium_100g</th>\n",
              "      <th>chloride_100g</th>\n",
              "      <th>calcium_100g</th>\n",
              "      <th>phosphorus_100g</th>\n",
              "      <th>iron_100g</th>\n",
              "      <th>magnesium_100g</th>\n",
              "      <th>zinc_100g</th>\n",
              "      <th>copper_100g</th>\n",
              "      <th>manganese_100g</th>\n",
              "      <th>fluoride_100g</th>\n",
              "      <th>selenium_100g</th>\n",
              "      <th>chromium_100g</th>\n",
              "      <th>molybdenum_100g</th>\n",
              "      <th>iodine_100g</th>\n",
              "      <th>caffeine_100g</th>\n",
              "      <th>taurine_100g</th>\n",
              "      <th>ph_100g</th>\n",
              "      <th>fruits-vegetables-nuts_100g</th>\n",
              "      <th>fruits-vegetables-nuts-estimate_100g</th>\n",
              "      <th>collagen-meat-protein-ratio_100g</th>\n",
              "      <th>cocoa_100g</th>\n",
              "      <th>chlorophyl_100g</th>\n",
              "      <th>carbon-footprint_100g</th>\n",
              "      <th>nutrition-score-fr_100g</th>\n",
              "      <th>nutrition-score-uk_100g</th>\n",
              "      <th>glycemic-index_100g</th>\n",
              "      <th>water-hardness_100g</th>\n",
              "    </tr>\n",
              "  </thead>\n",
              "  <tbody>\n",
              "    <tr>\n",
              "      <th>0</th>\n",
              "      <td>3087</td>\n",
              "      <td>http://world-en.openfoodfacts.org/product/0000...</td>\n",
              "      <td>openfoodfacts-contributors</td>\n",
              "      <td>1474103866</td>\n",
              "      <td>2016-09-17T09:17:46Z</td>\n",
              "      <td>1474103893</td>\n",
              "      <td>2016-09-17T09:18:13Z</td>\n",
              "      <td>Farine de blé noir</td>\n",
              "      <td>NaN</td>\n",
              "      <td>1kg</td>\n",
              "      <td>NaN</td>\n",
              "      <td>NaN</td>\n",
              "      <td>Ferme t'y R'nao</td>\n",
              "      <td>ferme-t-y-r-nao</td>\n",
              "      <td>NaN</td>\n",
              "      <td>NaN</td>\n",
              "      <td>NaN</td>\n",
              "      <td>NaN</td>\n",
              "      <td>NaN</td>\n",
              "      <td>NaN</td>\n",
              "      <td>NaN</td>\n",
              "      <td>NaN</td>\n",
              "      <td>NaN</td>\n",
              "      <td>NaN</td>\n",
              "      <td>NaN</td>\n",
              "      <td>NaN</td>\n",
              "      <td>NaN</td>\n",
              "      <td>NaN</td>\n",
              "      <td>NaN</td>\n",
              "      <td>NaN</td>\n",
              "      <td>NaN</td>\n",
              "      <td>en:FR</td>\n",
              "      <td>en:france</td>\n",
              "      <td>France</td>\n",
              "      <td>NaN</td>\n",
              "      <td>NaN</td>\n",
              "      <td>NaN</td>\n",
              "      <td>NaN</td>\n",
              "      <td>NaN</td>\n",
              "      <td>NaN</td>\n",
              "      <td>...</td>\n",
              "      <td>NaN</td>\n",
              "      <td>NaN</td>\n",
              "      <td>NaN</td>\n",
              "      <td>NaN</td>\n",
              "      <td>NaN</td>\n",
              "      <td>NaN</td>\n",
              "      <td>NaN</td>\n",
              "      <td>NaN</td>\n",
              "      <td>NaN</td>\n",
              "      <td>NaN</td>\n",
              "      <td>NaN</td>\n",
              "      <td>NaN</td>\n",
              "      <td>NaN</td>\n",
              "      <td>NaN</td>\n",
              "      <td>NaN</td>\n",
              "      <td>NaN</td>\n",
              "      <td>NaN</td>\n",
              "      <td>NaN</td>\n",
              "      <td>NaN</td>\n",
              "      <td>NaN</td>\n",
              "      <td>NaN</td>\n",
              "      <td>NaN</td>\n",
              "      <td>NaN</td>\n",
              "      <td>NaN</td>\n",
              "      <td>NaN</td>\n",
              "      <td>NaN</td>\n",
              "      <td>NaN</td>\n",
              "      <td>NaN</td>\n",
              "      <td>NaN</td>\n",
              "      <td>NaN</td>\n",
              "      <td>NaN</td>\n",
              "      <td>NaN</td>\n",
              "      <td>NaN</td>\n",
              "      <td>NaN</td>\n",
              "      <td>NaN</td>\n",
              "      <td>NaN</td>\n",
              "      <td>NaN</td>\n",
              "      <td>NaN</td>\n",
              "      <td>NaN</td>\n",
              "      <td>NaN</td>\n",
              "    </tr>\n",
              "    <tr>\n",
              "      <th>1</th>\n",
              "      <td>4530</td>\n",
              "      <td>http://world-en.openfoodfacts.org/product/0000...</td>\n",
              "      <td>usda-ndb-import</td>\n",
              "      <td>1489069957</td>\n",
              "      <td>2017-03-09T14:32:37Z</td>\n",
              "      <td>1489069957</td>\n",
              "      <td>2017-03-09T14:32:37Z</td>\n",
              "      <td>Banana Chips Sweetened (Whole)</td>\n",
              "      <td>NaN</td>\n",
              "      <td>NaN</td>\n",
              "      <td>NaN</td>\n",
              "      <td>NaN</td>\n",
              "      <td>NaN</td>\n",
              "      <td>NaN</td>\n",
              "      <td>NaN</td>\n",
              "      <td>NaN</td>\n",
              "      <td>NaN</td>\n",
              "      <td>NaN</td>\n",
              "      <td>NaN</td>\n",
              "      <td>NaN</td>\n",
              "      <td>NaN</td>\n",
              "      <td>NaN</td>\n",
              "      <td>NaN</td>\n",
              "      <td>NaN</td>\n",
              "      <td>NaN</td>\n",
              "      <td>NaN</td>\n",
              "      <td>NaN</td>\n",
              "      <td>NaN</td>\n",
              "      <td>NaN</td>\n",
              "      <td>NaN</td>\n",
              "      <td>NaN</td>\n",
              "      <td>US</td>\n",
              "      <td>en:united-states</td>\n",
              "      <td>United States</td>\n",
              "      <td>Bananas, vegetable oil (coconut oil, corn oil ...</td>\n",
              "      <td>NaN</td>\n",
              "      <td>NaN</td>\n",
              "      <td>NaN</td>\n",
              "      <td>NaN</td>\n",
              "      <td>NaN</td>\n",
              "      <td>...</td>\n",
              "      <td>NaN</td>\n",
              "      <td>0.0214</td>\n",
              "      <td>NaN</td>\n",
              "      <td>NaN</td>\n",
              "      <td>NaN</td>\n",
              "      <td>NaN</td>\n",
              "      <td>NaN</td>\n",
              "      <td>NaN</td>\n",
              "      <td>NaN</td>\n",
              "      <td>NaN</td>\n",
              "      <td>NaN</td>\n",
              "      <td>NaN</td>\n",
              "      <td>NaN</td>\n",
              "      <td>NaN</td>\n",
              "      <td>NaN</td>\n",
              "      <td>0.000</td>\n",
              "      <td>NaN</td>\n",
              "      <td>0.00129</td>\n",
              "      <td>NaN</td>\n",
              "      <td>NaN</td>\n",
              "      <td>NaN</td>\n",
              "      <td>NaN</td>\n",
              "      <td>NaN</td>\n",
              "      <td>NaN</td>\n",
              "      <td>NaN</td>\n",
              "      <td>NaN</td>\n",
              "      <td>NaN</td>\n",
              "      <td>NaN</td>\n",
              "      <td>NaN</td>\n",
              "      <td>NaN</td>\n",
              "      <td>NaN</td>\n",
              "      <td>NaN</td>\n",
              "      <td>NaN</td>\n",
              "      <td>NaN</td>\n",
              "      <td>NaN</td>\n",
              "      <td>NaN</td>\n",
              "      <td>14.0</td>\n",
              "      <td>14.0</td>\n",
              "      <td>NaN</td>\n",
              "      <td>NaN</td>\n",
              "    </tr>\n",
              "    <tr>\n",
              "      <th>2</th>\n",
              "      <td>4559</td>\n",
              "      <td>http://world-en.openfoodfacts.org/product/0000...</td>\n",
              "      <td>usda-ndb-import</td>\n",
              "      <td>1489069957</td>\n",
              "      <td>2017-03-09T14:32:37Z</td>\n",
              "      <td>1489069957</td>\n",
              "      <td>2017-03-09T14:32:37Z</td>\n",
              "      <td>Peanuts</td>\n",
              "      <td>NaN</td>\n",
              "      <td>NaN</td>\n",
              "      <td>NaN</td>\n",
              "      <td>NaN</td>\n",
              "      <td>Torn &amp; Glasser</td>\n",
              "      <td>torn-glasser</td>\n",
              "      <td>NaN</td>\n",
              "      <td>NaN</td>\n",
              "      <td>NaN</td>\n",
              "      <td>NaN</td>\n",
              "      <td>NaN</td>\n",
              "      <td>NaN</td>\n",
              "      <td>NaN</td>\n",
              "      <td>NaN</td>\n",
              "      <td>NaN</td>\n",
              "      <td>NaN</td>\n",
              "      <td>NaN</td>\n",
              "      <td>NaN</td>\n",
              "      <td>NaN</td>\n",
              "      <td>NaN</td>\n",
              "      <td>NaN</td>\n",
              "      <td>NaN</td>\n",
              "      <td>NaN</td>\n",
              "      <td>US</td>\n",
              "      <td>en:united-states</td>\n",
              "      <td>United States</td>\n",
              "      <td>Peanuts, wheat flour, sugar, rice flour, tapio...</td>\n",
              "      <td>NaN</td>\n",
              "      <td>NaN</td>\n",
              "      <td>NaN</td>\n",
              "      <td>NaN</td>\n",
              "      <td>NaN</td>\n",
              "      <td>...</td>\n",
              "      <td>NaN</td>\n",
              "      <td>0.0000</td>\n",
              "      <td>NaN</td>\n",
              "      <td>NaN</td>\n",
              "      <td>NaN</td>\n",
              "      <td>NaN</td>\n",
              "      <td>NaN</td>\n",
              "      <td>NaN</td>\n",
              "      <td>NaN</td>\n",
              "      <td>NaN</td>\n",
              "      <td>NaN</td>\n",
              "      <td>NaN</td>\n",
              "      <td>NaN</td>\n",
              "      <td>NaN</td>\n",
              "      <td>NaN</td>\n",
              "      <td>0.071</td>\n",
              "      <td>NaN</td>\n",
              "      <td>0.00129</td>\n",
              "      <td>NaN</td>\n",
              "      <td>NaN</td>\n",
              "      <td>NaN</td>\n",
              "      <td>NaN</td>\n",
              "      <td>NaN</td>\n",
              "      <td>NaN</td>\n",
              "      <td>NaN</td>\n",
              "      <td>NaN</td>\n",
              "      <td>NaN</td>\n",
              "      <td>NaN</td>\n",
              "      <td>NaN</td>\n",
              "      <td>NaN</td>\n",
              "      <td>NaN</td>\n",
              "      <td>NaN</td>\n",
              "      <td>NaN</td>\n",
              "      <td>NaN</td>\n",
              "      <td>NaN</td>\n",
              "      <td>NaN</td>\n",
              "      <td>0.0</td>\n",
              "      <td>0.0</td>\n",
              "      <td>NaN</td>\n",
              "      <td>NaN</td>\n",
              "    </tr>\n",
              "    <tr>\n",
              "      <th>3</th>\n",
              "      <td>16087</td>\n",
              "      <td>http://world-en.openfoodfacts.org/product/0000...</td>\n",
              "      <td>usda-ndb-import</td>\n",
              "      <td>1489055731</td>\n",
              "      <td>2017-03-09T10:35:31Z</td>\n",
              "      <td>1489055731</td>\n",
              "      <td>2017-03-09T10:35:31Z</td>\n",
              "      <td>Organic Salted Nut Mix</td>\n",
              "      <td>NaN</td>\n",
              "      <td>NaN</td>\n",
              "      <td>NaN</td>\n",
              "      <td>NaN</td>\n",
              "      <td>Grizzlies</td>\n",
              "      <td>grizzlies</td>\n",
              "      <td>NaN</td>\n",
              "      <td>NaN</td>\n",
              "      <td>NaN</td>\n",
              "      <td>NaN</td>\n",
              "      <td>NaN</td>\n",
              "      <td>NaN</td>\n",
              "      <td>NaN</td>\n",
              "      <td>NaN</td>\n",
              "      <td>NaN</td>\n",
              "      <td>NaN</td>\n",
              "      <td>NaN</td>\n",
              "      <td>NaN</td>\n",
              "      <td>NaN</td>\n",
              "      <td>NaN</td>\n",
              "      <td>NaN</td>\n",
              "      <td>NaN</td>\n",
              "      <td>NaN</td>\n",
              "      <td>US</td>\n",
              "      <td>en:united-states</td>\n",
              "      <td>United States</td>\n",
              "      <td>Organic hazelnuts, organic cashews, organic wa...</td>\n",
              "      <td>NaN</td>\n",
              "      <td>NaN</td>\n",
              "      <td>NaN</td>\n",
              "      <td>NaN</td>\n",
              "      <td>NaN</td>\n",
              "      <td>...</td>\n",
              "      <td>NaN</td>\n",
              "      <td>NaN</td>\n",
              "      <td>NaN</td>\n",
              "      <td>NaN</td>\n",
              "      <td>NaN</td>\n",
              "      <td>NaN</td>\n",
              "      <td>NaN</td>\n",
              "      <td>NaN</td>\n",
              "      <td>NaN</td>\n",
              "      <td>NaN</td>\n",
              "      <td>NaN</td>\n",
              "      <td>NaN</td>\n",
              "      <td>NaN</td>\n",
              "      <td>NaN</td>\n",
              "      <td>NaN</td>\n",
              "      <td>0.143</td>\n",
              "      <td>NaN</td>\n",
              "      <td>0.00514</td>\n",
              "      <td>NaN</td>\n",
              "      <td>NaN</td>\n",
              "      <td>NaN</td>\n",
              "      <td>NaN</td>\n",
              "      <td>NaN</td>\n",
              "      <td>NaN</td>\n",
              "      <td>NaN</td>\n",
              "      <td>NaN</td>\n",
              "      <td>NaN</td>\n",
              "      <td>NaN</td>\n",
              "      <td>NaN</td>\n",
              "      <td>NaN</td>\n",
              "      <td>NaN</td>\n",
              "      <td>NaN</td>\n",
              "      <td>NaN</td>\n",
              "      <td>NaN</td>\n",
              "      <td>NaN</td>\n",
              "      <td>NaN</td>\n",
              "      <td>12.0</td>\n",
              "      <td>12.0</td>\n",
              "      <td>NaN</td>\n",
              "      <td>NaN</td>\n",
              "    </tr>\n",
              "    <tr>\n",
              "      <th>4</th>\n",
              "      <td>16094</td>\n",
              "      <td>http://world-en.openfoodfacts.org/product/0000...</td>\n",
              "      <td>usda-ndb-import</td>\n",
              "      <td>1489055653</td>\n",
              "      <td>2017-03-09T10:34:13Z</td>\n",
              "      <td>1489055653</td>\n",
              "      <td>2017-03-09T10:34:13Z</td>\n",
              "      <td>Organic Polenta</td>\n",
              "      <td>NaN</td>\n",
              "      <td>NaN</td>\n",
              "      <td>NaN</td>\n",
              "      <td>NaN</td>\n",
              "      <td>Bob's Red Mill</td>\n",
              "      <td>bob-s-red-mill</td>\n",
              "      <td>NaN</td>\n",
              "      <td>NaN</td>\n",
              "      <td>NaN</td>\n",
              "      <td>NaN</td>\n",
              "      <td>NaN</td>\n",
              "      <td>NaN</td>\n",
              "      <td>NaN</td>\n",
              "      <td>NaN</td>\n",
              "      <td>NaN</td>\n",
              "      <td>NaN</td>\n",
              "      <td>NaN</td>\n",
              "      <td>NaN</td>\n",
              "      <td>NaN</td>\n",
              "      <td>NaN</td>\n",
              "      <td>NaN</td>\n",
              "      <td>NaN</td>\n",
              "      <td>NaN</td>\n",
              "      <td>US</td>\n",
              "      <td>en:united-states</td>\n",
              "      <td>United States</td>\n",
              "      <td>Organic polenta</td>\n",
              "      <td>NaN</td>\n",
              "      <td>NaN</td>\n",
              "      <td>NaN</td>\n",
              "      <td>NaN</td>\n",
              "      <td>NaN</td>\n",
              "      <td>...</td>\n",
              "      <td>NaN</td>\n",
              "      <td>NaN</td>\n",
              "      <td>NaN</td>\n",
              "      <td>NaN</td>\n",
              "      <td>NaN</td>\n",
              "      <td>NaN</td>\n",
              "      <td>NaN</td>\n",
              "      <td>NaN</td>\n",
              "      <td>NaN</td>\n",
              "      <td>NaN</td>\n",
              "      <td>NaN</td>\n",
              "      <td>NaN</td>\n",
              "      <td>NaN</td>\n",
              "      <td>NaN</td>\n",
              "      <td>NaN</td>\n",
              "      <td>NaN</td>\n",
              "      <td>NaN</td>\n",
              "      <td>NaN</td>\n",
              "      <td>NaN</td>\n",
              "      <td>NaN</td>\n",
              "      <td>NaN</td>\n",
              "      <td>NaN</td>\n",
              "      <td>NaN</td>\n",
              "      <td>NaN</td>\n",
              "      <td>NaN</td>\n",
              "      <td>NaN</td>\n",
              "      <td>NaN</td>\n",
              "      <td>NaN</td>\n",
              "      <td>NaN</td>\n",
              "      <td>NaN</td>\n",
              "      <td>NaN</td>\n",
              "      <td>NaN</td>\n",
              "      <td>NaN</td>\n",
              "      <td>NaN</td>\n",
              "      <td>NaN</td>\n",
              "      <td>NaN</td>\n",
              "      <td>NaN</td>\n",
              "      <td>NaN</td>\n",
              "      <td>NaN</td>\n",
              "      <td>NaN</td>\n",
              "    </tr>\n",
              "  </tbody>\n",
              "</table>\n",
              "<p>5 rows × 163 columns</p>\n",
              "</div>"
            ],
            "text/plain": [
              "    code  ... water-hardness_100g\n",
              "0   3087  ...                 NaN\n",
              "1   4530  ...                 NaN\n",
              "2   4559  ...                 NaN\n",
              "3  16087  ...                 NaN\n",
              "4  16094  ...                 NaN\n",
              "\n",
              "[5 rows x 163 columns]"
            ]
          },
          "metadata": {
            "tags": []
          },
          "execution_count": 60
        }
      ]
    },
    {
      "cell_type": "markdown",
      "metadata": {
        "id": "diaZYcYmwaQ0",
        "colab_type": "text"
      },
      "source": [
        "**Step 5.** *What is the number of observations in the dataset?*"
      ]
    },
    {
      "cell_type": "code",
      "metadata": {
        "id": "lMqi-V7q2LcL",
        "colab_type": "code",
        "colab": {
          "base_uri": "https://localhost:8080/",
          "height": 36
        },
        "outputId": "b58d3e2f-616a-44eb-f3aa-cc14e114f5b8"
      },
      "source": [
        "#With shape we can show the number of rows in the file\n",
        "food.shape"
      ],
      "execution_count": 69,
      "outputs": [
        {
          "output_type": "execute_result",
          "data": {
            "text/plain": [
              "(53805, 163)"
            ]
          },
          "metadata": {
            "tags": []
          },
          "execution_count": 69
        }
      ]
    },
    {
      "cell_type": "markdown",
      "metadata": {
        "id": "Fza59SHfwzwQ",
        "colab_type": "text"
      },
      "source": [
        "**Step 6.** *What is the number of columns in the dataset?*"
      ]
    },
    {
      "cell_type": "code",
      "metadata": {
        "id": "4aAADkJt2lCO",
        "colab_type": "code",
        "colab": {
          "base_uri": "https://localhost:8080/",
          "height": 36
        },
        "outputId": "8824c0f9-f3ad-4934-9b30-3b3398ca76d1"
      },
      "source": [
        "#With shape with a 0 we can show the number of rows in the file\n",
        "food.shape[1]"
      ],
      "execution_count": 70,
      "outputs": [
        {
          "output_type": "execute_result",
          "data": {
            "text/plain": [
              "163"
            ]
          },
          "metadata": {
            "tags": []
          },
          "execution_count": 70
        }
      ]
    },
    {
      "cell_type": "markdown",
      "metadata": {
        "id": "Erhv5Talw5HE",
        "colab_type": "text"
      },
      "source": [
        "**Step 7.** *Print the name of all the columns.*"
      ]
    },
    {
      "cell_type": "code",
      "metadata": {
        "id": "r3EqzzF33IAL",
        "colab_type": "code",
        "colab": {
          "base_uri": "https://localhost:8080/",
          "height": 203
        },
        "outputId": "10a6572e-29b6-41d6-f3b1-04e5d84fbc1c"
      },
      "source": [
        "#If we add columns to the variable that reads the file, it prints the name of the columns\n",
        "food.columns"
      ],
      "execution_count": 72,
      "outputs": [
        {
          "output_type": "execute_result",
          "data": {
            "text/plain": [
              "Index(['code', 'url', 'creator', 'created_t', 'created_datetime',\n",
              "       'last_modified_t', 'last_modified_datetime', 'product_name',\n",
              "       'generic_name', 'quantity',\n",
              "       ...\n",
              "       'fruits-vegetables-nuts_100g', 'fruits-vegetables-nuts-estimate_100g',\n",
              "       'collagen-meat-protein-ratio_100g', 'cocoa_100g', 'chlorophyl_100g',\n",
              "       'carbon-footprint_100g', 'nutrition-score-fr_100g',\n",
              "       'nutrition-score-uk_100g', 'glycemic-index_100g',\n",
              "       'water-hardness_100g'],\n",
              "      dtype='object', length=163)"
            ]
          },
          "metadata": {
            "tags": []
          },
          "execution_count": 72
        }
      ]
    },
    {
      "cell_type": "markdown",
      "metadata": {
        "id": "cI_kEJJ_w90B",
        "colab_type": "text"
      },
      "source": [
        "**Step 8.** *What is the name of 105th column?*"
      ]
    },
    {
      "cell_type": "code",
      "metadata": {
        "id": "e56J69Uw3O4y",
        "colab_type": "code",
        "colab": {
          "base_uri": "https://localhost:8080/",
          "height": 36
        },
        "outputId": "6934477a-55ce-41bc-de31-f36c6fd66726"
      },
      "source": [
        "#The first column begins its count at 0 therefore 104 is required\n",
        "food.columns[104]"
      ],
      "execution_count": 73,
      "outputs": [
        {
          "output_type": "execute_result",
          "data": {
            "text/plain": [
              "'-glucose_100g'"
            ]
          },
          "metadata": {
            "tags": []
          },
          "execution_count": 73
        }
      ]
    },
    {
      "cell_type": "markdown",
      "metadata": {
        "id": "YvVeAWDfxDA6",
        "colab_type": "text"
      },
      "source": [
        "\n",
        "**Step 9.** *What is the type of the observations of the 105th column?*"
      ]
    },
    {
      "cell_type": "code",
      "metadata": {
        "id": "uhqYwwG33i1g",
        "colab_type": "code",
        "colab": {
          "base_uri": "https://localhost:8080/",
          "height": 36
        },
        "outputId": "a8c8cdb2-8dfe-4435-bd77-411ea818ea4a"
      },
      "source": [
        "#the previous query is called from the dtypes method of the food variable\n",
        "food.dtypes[food.columns[104]]"
      ],
      "execution_count": 74,
      "outputs": [
        {
          "output_type": "execute_result",
          "data": {
            "text/plain": [
              "dtype('float64')"
            ]
          },
          "metadata": {
            "tags": []
          },
          "execution_count": 74
        }
      ]
    },
    {
      "cell_type": "markdown",
      "metadata": {
        "id": "-4hJ06T0xGxh",
        "colab_type": "text"
      },
      "source": [
        "**Step 10.** *How is the dataset indexed?*"
      ]
    },
    {
      "cell_type": "code",
      "metadata": {
        "id": "GCC2hWoD4O0T",
        "colab_type": "code",
        "colab": {
          "base_uri": "https://localhost:8080/",
          "height": 36
        },
        "outputId": "e5d83aa2-07c1-4407-f3f7-b0e0b4307c8b"
      },
      "source": [
        "#The index method returns the number of indexes of the variable\n",
        "food.index"
      ],
      "execution_count": 75,
      "outputs": [
        {
          "output_type": "execute_result",
          "data": {
            "text/plain": [
              "RangeIndex(start=0, stop=53805, step=1)"
            ]
          },
          "metadata": {
            "tags": []
          },
          "execution_count": 75
        }
      ]
    },
    {
      "cell_type": "markdown",
      "metadata": {
        "id": "0jCRIInoxLG8",
        "colab_type": "text"
      },
      "source": [
        "**Step 11.** *What is the product name of the 19th observation?*"
      ]
    },
    {
      "cell_type": "code",
      "metadata": {
        "id": "veIiREOj4UJQ",
        "colab_type": "code",
        "colab": {
          "base_uri": "https://localhost:8080/",
          "height": 36
        },
        "outputId": "25488c7a-cf28-459c-9660-f4a6ae921ec9"
      },
      "source": [
        "#It's called the observation column and the corresponding row\n",
        "food.values[18][7]"
      ],
      "execution_count": 76,
      "outputs": [
        {
          "output_type": "execute_result",
          "data": {
            "text/plain": [
              "'Lotus Organic Brown Jasmine Rice'"
            ]
          },
          "metadata": {
            "tags": []
          },
          "execution_count": 76
        }
      ]
    },
    {
      "cell_type": "markdown",
      "metadata": {
        "id": "t0ToHOu2lDkZ",
        "colab_type": "text"
      },
      "source": [
        "## ***Filtering and Sorting***"
      ]
    },
    {
      "cell_type": "markdown",
      "metadata": {
        "id": "PCMXWVdRlDZe",
        "colab_type": "text"
      },
      "source": [
        "## ***Grouping***"
      ]
    },
    {
      "cell_type": "markdown",
      "metadata": {
        "id": "Q2Xa0E4tlDNS",
        "colab_type": "text"
      },
      "source": [
        "## ***Apply***"
      ]
    },
    {
      "cell_type": "markdown",
      "metadata": {
        "id": "fH9Ws6LBlDB9",
        "colab_type": "text"
      },
      "source": [
        "## ***Merge***"
      ]
    },
    {
      "cell_type": "markdown",
      "metadata": {
        "id": "UQS8-Hh4lC3O",
        "colab_type": "text"
      },
      "source": [
        "## ***Stats***\n"
      ]
    },
    {
      "cell_type": "markdown",
      "metadata": {
        "id": "FoiB-SMhlCrf",
        "colab_type": "text"
      },
      "source": [
        "## ***Visualization***"
      ]
    },
    {
      "cell_type": "markdown",
      "metadata": {
        "id": "v1R52o4EmBQc",
        "colab_type": "text"
      },
      "source": [
        "## ***Creating Series and DataFrames***"
      ]
    },
    {
      "cell_type": "markdown",
      "metadata": {
        "id": "l26fP-8LmO9x",
        "colab_type": "text"
      },
      "source": [
        "## ***Time Series***"
      ]
    },
    {
      "cell_type": "markdown",
      "metadata": {
        "id": "G_zQUOGLmXMN",
        "colab_type": "text"
      },
      "source": [
        "## ***Deleting***"
      ]
    }
  ]
}