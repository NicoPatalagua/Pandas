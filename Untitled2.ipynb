{
  "nbformat": 4,
  "nbformat_minor": 0,
  "metadata": {
    "colab": {
      "name": "Untitled2.ipynb",
      "provenance": [],
      "collapsed_sections": [],
      "include_colab_link": true
    },
    "kernelspec": {
      "name": "python3",
      "display_name": "Python 3"
    }
  },
  "cells": [
    {
      "cell_type": "markdown",
      "metadata": {
        "id": "view-in-github",
        "colab_type": "text"
      },
      "source": [
        "<a href=\"https://colab.research.google.com/github/NicoPatalagua/Pandas/blob/master/Untitled2.ipynb\" target=\"_parent\"><img src=\"https://colab.research.google.com/assets/colab-badge.svg\" alt=\"Open In Colab\"/></a>"
      ]
    },
    {
      "cell_type": "markdown",
      "metadata": {
        "id": "wx9yBA4QEZie",
        "colab_type": "text"
      },
      "source": [
        "### Patalagua Suárez Nicolás\n",
        "## Quiz Creación Archivo .CSV con python\n"
      ]
    },
    {
      "cell_type": "code",
      "metadata": {
        "id": "OE1fAU21EYbt",
        "colab_type": "code",
        "colab": {}
      },
      "source": [
        "import csv\n",
        "import numpy as np\n",
        "with open('info_estudiantes.csv', 'w', newline='') as file:\n",
        "    writer = csv.writer(file)\n",
        "    writer.writerow([\"Genero\", \"TV\", \"Computador\",\"Dormir\",\"AlturaE\",\"AlturaMama\",\"AlturaPapa\",\"EjercicioE\",\"Promedio\"])\n",
        "    for i in range (180):\n",
        "      gen=np.random.randint(0,2)\n",
        "      if gen == 1:\n",
        "         genero='Male'\n",
        "      elif gen==0:\n",
        "        genero='Female'\n",
        "      tv = np.random.randint(0,12)\n",
        "      com = np.random.randint(0,18)\n",
        "      dor = np.random.randint(0,9)\n",
        "      Alte = np.random.randint(100,192)\n",
        "      Altm = np.random.randint(100,169)\n",
        "      Altp = np.random.randint(100,192)\n",
        "      ejer = np.random.randint(0,9)\n",
        "      prom = np.random.uniform(3,5)\n",
        "      writer.writerow([genero,tv,com,dor,Alte,Altm,Altp,ejer,prom])"
      ],
      "execution_count": 0,
      "outputs": []
    }
  ]
}