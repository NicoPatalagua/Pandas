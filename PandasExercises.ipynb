{
  "nbformat": 4,
  "nbformat_minor": 0,
  "metadata": {
    "colab": {
      "name": "PandasExercises.ipynb",
      "provenance": [],
      "authorship_tag": "ABX9TyMyOdR4Di9QOGmaG/ISbzIx",
      "include_colab_link": true
    },
    "kernelspec": {
      "name": "python3",
      "display_name": "Python 3"
    }
  },
  "cells": [
    {
      "cell_type": "markdown",
      "metadata": {
        "id": "view-in-github",
        "colab_type": "text"
      },
      "source": [
        "<a href=\"https://colab.research.google.com/github/NicoPatalagua/Pandas/blob/master/PandasExercises.ipynb\" target=\"_parent\"><img src=\"https://colab.research.google.com/assets/colab-badge.svg\" alt=\"Open In Colab\"/></a>"
      ]
    },
    {
      "cell_type": "markdown",
      "metadata": {
        "id": "g9oIU5vLaWcV",
        "colab_type": "text"
      },
      "source": [
        "# **Pandas Exercises**\n",
        "## *Patalagua Suárez Nicolás*\n",
        "### Universidad Sergio Arboleda"
      ]
    },
    {
      "cell_type": "markdown",
      "metadata": {
        "id": "FRthrcCujQBG",
        "colab_type": "text"
      },
      "source": [
        "### ***What is Pandas?***\n",
        "\n",
        "In Computing and Data Science, pandas is a software library written as an extension to NumPy for data manipulation and analysis for the Python programming language. In particular, it offers data structures and operations for number tables and time series. It is free software distributed under the BSD version three clauses license.\n",
        "\n",
        " https://pandas.pydata.org/"
      ]
    },
    {
      "cell_type": "markdown",
      "metadata": {
        "id": "EZv5V2HaoW2f",
        "colab_type": "text"
      },
      "source": [
        "### ***What is Numpy?***\n",
        "\n",
        "NumPy is a Python extension, which adds more support for vectors and matrices, constituting a library of high-level mathematical functions to operate with those vectors or matrices. NumPy's ancestor Numeric was originally created by Jim Hugunin with some contributions from other developers. In 2005 Travis Oliphant created NumPy incorporating Numarray features into NumPy with some modifications.\n",
        "\n",
        "\n",
        " https://numpy.org/"
      ]
    },
    {
      "cell_type": "markdown",
      "metadata": {
        "id": "Pqi3600Xj2mw",
        "colab_type": "text"
      },
      "source": [
        "### ***Repository***\n",
        "This work was done taking into account the repository https://github.com/guipsamora/pandas_exercises, developed by Guilherme Samora, who is a Senior Product Manager at the Global Savings Group in Munich - Germany."
      ]
    },
    {
      "cell_type": "markdown",
      "metadata": {
        "id": "psIVL8iuknAb",
        "colab_type": "text"
      },
      "source": [
        "## ***Getting and knowing***"
      ]
    },
    {
      "cell_type": "markdown",
      "metadata": {
        "id": "-uHE_02RmlGL",
        "colab_type": "text"
      },
      "source": [
        "### ***Chiotle***"
      ]
    },
    {
      "cell_type": "markdown",
      "metadata": {
        "id": "ospPUT1vnC-m",
        "colab_type": "text"
      },
      "source": [
        "Dataset and materials: https://github.com/justmarkham "
      ]
    },
    {
      "cell_type": "markdown",
      "metadata": {
        "id": "x_uOsBoanKK2",
        "colab_type": "text"
      },
      "source": [
        "**Step 1.** *Import the necessary libraries*"
      ]
    },
    {
      "cell_type": "code",
      "metadata": {
        "id": "n0p8fbmAoGbz",
        "colab_type": "code",
        "colab": {}
      },
      "source": [
        "#Import the pandas library and assign it to the variable pd\n",
        "import pandas as pd\n",
        "#Import the numpy library and assign it to the variable np\n",
        "import numpy as np"
      ],
      "execution_count": 0,
      "outputs": []
    },
    {
      "cell_type": "markdown",
      "metadata": {
        "id": "3roER5CunRhZ",
        "colab_type": "text"
      },
      "source": [
        "**Step 2.** *Import the dataset from this address.*\n"
      ]
    },
    {
      "cell_type": "code",
      "metadata": {
        "id": "H4RLkWlaoONk",
        "colab_type": "code",
        "colab": {}
      },
      "source": [
        "#Assign the dataset variable the path of the repository where the file to be used is\n",
        "dataset = 'https://raw.githubusercontent.com/justmarkham/DAT8/master/data/chipotle.tsv'"
      ],
      "execution_count": 0,
      "outputs": []
    },
    {
      "cell_type": "markdown",
      "metadata": {
        "id": "5EvOEYBbnRYz",
        "colab_type": "text"
      },
      "source": [
        "**Step 3.** *Assign it to a variable called chipo.*"
      ]
    },
    {
      "cell_type": "code",
      "metadata": {
        "id": "9zmztmaBpcFY",
        "colab_type": "code",
        "colab": {}
      },
      "source": [
        "#Create the variable chipo\n",
        "chipo = pd.read_csv(dataset, sep = '\\t')"
      ],
      "execution_count": 0,
      "outputs": []
    },
    {
      "cell_type": "markdown",
      "metadata": {
        "id": "FxsOLgT5nRPb",
        "colab_type": "text"
      },
      "source": [
        "**Step 4.** *See the first 10 entries.*"
      ]
    },
    {
      "cell_type": "code",
      "metadata": {
        "id": "3513FG8vpoTq",
        "colab_type": "code",
        "outputId": "b0318c60-6b76-44c3-aaee-127ef12b31e2",
        "colab": {
          "base_uri": "https://localhost:8080/",
          "height": 363
        }
      },
      "source": [
        "#With head we show a specific amount of data\n",
        "chipo.head(10)"
      ],
      "execution_count": 177,
      "outputs": [
        {
          "output_type": "execute_result",
          "data": {
            "text/html": [
              "<div>\n",
              "<style scoped>\n",
              "    .dataframe tbody tr th:only-of-type {\n",
              "        vertical-align: middle;\n",
              "    }\n",
              "\n",
              "    .dataframe tbody tr th {\n",
              "        vertical-align: top;\n",
              "    }\n",
              "\n",
              "    .dataframe thead th {\n",
              "        text-align: right;\n",
              "    }\n",
              "</style>\n",
              "<table border=\"1\" class=\"dataframe\">\n",
              "  <thead>\n",
              "    <tr style=\"text-align: right;\">\n",
              "      <th></th>\n",
              "      <th>order_id</th>\n",
              "      <th>quantity</th>\n",
              "      <th>item_name</th>\n",
              "      <th>choice_description</th>\n",
              "      <th>item_price</th>\n",
              "    </tr>\n",
              "  </thead>\n",
              "  <tbody>\n",
              "    <tr>\n",
              "      <th>0</th>\n",
              "      <td>1</td>\n",
              "      <td>1</td>\n",
              "      <td>Chips and Fresh Tomato Salsa</td>\n",
              "      <td>NaN</td>\n",
              "      <td>$2.39</td>\n",
              "    </tr>\n",
              "    <tr>\n",
              "      <th>1</th>\n",
              "      <td>1</td>\n",
              "      <td>1</td>\n",
              "      <td>Izze</td>\n",
              "      <td>[Clementine]</td>\n",
              "      <td>$3.39</td>\n",
              "    </tr>\n",
              "    <tr>\n",
              "      <th>2</th>\n",
              "      <td>1</td>\n",
              "      <td>1</td>\n",
              "      <td>Nantucket Nectar</td>\n",
              "      <td>[Apple]</td>\n",
              "      <td>$3.39</td>\n",
              "    </tr>\n",
              "    <tr>\n",
              "      <th>3</th>\n",
              "      <td>1</td>\n",
              "      <td>1</td>\n",
              "      <td>Chips and Tomatillo-Green Chili Salsa</td>\n",
              "      <td>NaN</td>\n",
              "      <td>$2.39</td>\n",
              "    </tr>\n",
              "    <tr>\n",
              "      <th>4</th>\n",
              "      <td>2</td>\n",
              "      <td>2</td>\n",
              "      <td>Chicken Bowl</td>\n",
              "      <td>[Tomatillo-Red Chili Salsa (Hot), [Black Beans...</td>\n",
              "      <td>$16.98</td>\n",
              "    </tr>\n",
              "    <tr>\n",
              "      <th>5</th>\n",
              "      <td>3</td>\n",
              "      <td>1</td>\n",
              "      <td>Chicken Bowl</td>\n",
              "      <td>[Fresh Tomato Salsa (Mild), [Rice, Cheese, Sou...</td>\n",
              "      <td>$10.98</td>\n",
              "    </tr>\n",
              "    <tr>\n",
              "      <th>6</th>\n",
              "      <td>3</td>\n",
              "      <td>1</td>\n",
              "      <td>Side of Chips</td>\n",
              "      <td>NaN</td>\n",
              "      <td>$1.69</td>\n",
              "    </tr>\n",
              "    <tr>\n",
              "      <th>7</th>\n",
              "      <td>4</td>\n",
              "      <td>1</td>\n",
              "      <td>Steak Burrito</td>\n",
              "      <td>[Tomatillo Red Chili Salsa, [Fajita Vegetables...</td>\n",
              "      <td>$11.75</td>\n",
              "    </tr>\n",
              "    <tr>\n",
              "      <th>8</th>\n",
              "      <td>4</td>\n",
              "      <td>1</td>\n",
              "      <td>Steak Soft Tacos</td>\n",
              "      <td>[Tomatillo Green Chili Salsa, [Pinto Beans, Ch...</td>\n",
              "      <td>$9.25</td>\n",
              "    </tr>\n",
              "    <tr>\n",
              "      <th>9</th>\n",
              "      <td>5</td>\n",
              "      <td>1</td>\n",
              "      <td>Steak Burrito</td>\n",
              "      <td>[Fresh Tomato Salsa, [Rice, Black Beans, Pinto...</td>\n",
              "      <td>$9.25</td>\n",
              "    </tr>\n",
              "  </tbody>\n",
              "</table>\n",
              "</div>"
            ],
            "text/plain": [
              "   order_id  ...  item_price\n",
              "0         1  ...      $2.39 \n",
              "1         1  ...      $3.39 \n",
              "2         1  ...      $3.39 \n",
              "3         1  ...      $2.39 \n",
              "4         2  ...     $16.98 \n",
              "5         3  ...     $10.98 \n",
              "6         3  ...      $1.69 \n",
              "7         4  ...     $11.75 \n",
              "8         4  ...      $9.25 \n",
              "9         5  ...      $9.25 \n",
              "\n",
              "[10 rows x 5 columns]"
            ]
          },
          "metadata": {
            "tags": []
          },
          "execution_count": 177
        }
      ]
    },
    {
      "cell_type": "markdown",
      "metadata": {
        "id": "iwI97l72nRGz",
        "colab_type": "text"
      },
      "source": [
        "**Step 5.** *What is the number of observations in the dataset?*"
      ]
    },
    {
      "cell_type": "code",
      "metadata": {
        "id": "xsKOoJmysG28",
        "colab_type": "code",
        "outputId": "39cdd3b1-93d8-4610-a285-f009ffdf394a",
        "colab": {
          "base_uri": "https://localhost:8080/",
          "height": 35
        }
      },
      "source": [
        "#With shape with a 0 we can show the number of rows in the file\n",
        "chipo.shape[0]"
      ],
      "execution_count": 0,
      "outputs": [
        {
          "output_type": "execute_result",
          "data": {
            "text/plain": [
              "4622"
            ]
          },
          "metadata": {
            "tags": []
          },
          "execution_count": 24
        }
      ]
    },
    {
      "cell_type": "markdown",
      "metadata": {
        "id": "m-Og611xnQ9l",
        "colab_type": "text"
      },
      "source": [
        "**Step 6.** *What is the number of columns in the dataset?*"
      ]
    },
    {
      "cell_type": "code",
      "metadata": {
        "id": "wHBbthd5sHjQ",
        "colab_type": "code",
        "outputId": "cfae22e9-271c-4a6d-e00f-cf3baed5ea2c",
        "colab": {
          "base_uri": "https://localhost:8080/",
          "height": 35
        }
      },
      "source": [
        "#With shape with a 1 we can show the number of columns in the file\n",
        "chipo.shape[1]"
      ],
      "execution_count": 0,
      "outputs": [
        {
          "output_type": "execute_result",
          "data": {
            "text/plain": [
              "5"
            ]
          },
          "metadata": {
            "tags": []
          },
          "execution_count": 25
        }
      ]
    },
    {
      "cell_type": "markdown",
      "metadata": {
        "id": "ea3Wz3s1nQ0O",
        "colab_type": "text"
      },
      "source": [
        "**Step 7.** *Print the name of all the columns.*"
      ]
    },
    {
      "cell_type": "code",
      "metadata": {
        "id": "tiCaCLx0sIHq",
        "colab_type": "code",
        "outputId": "14cd7a3a-9f73-48f3-a58a-d0cccc7eb42f",
        "colab": {
          "base_uri": "https://localhost:8080/",
          "height": 72
        }
      },
      "source": [
        "#If we add columns to the variable that reads the file, it prints the name of the columns\n",
        "chipo.columns"
      ],
      "execution_count": 0,
      "outputs": [
        {
          "output_type": "execute_result",
          "data": {
            "text/plain": [
              "Index(['order_id', 'quantity', 'item_name', 'choice_description',\n",
              "       'item_price'],\n",
              "      dtype='object')"
            ]
          },
          "metadata": {
            "tags": []
          },
          "execution_count": 26
        }
      ]
    },
    {
      "cell_type": "markdown",
      "metadata": {
        "id": "WflTG3r_nQq1",
        "colab_type": "text"
      },
      "source": [
        "**Step 8.** *How is the dataset indexed?*"
      ]
    },
    {
      "cell_type": "code",
      "metadata": {
        "id": "3QkRSjCzsImZ",
        "colab_type": "code",
        "outputId": "71a6806c-ae3f-41cd-de0b-3635de2f3809",
        "colab": {
          "base_uri": "https://localhost:8080/",
          "height": 35
        }
      },
      "source": [
        "#The index method returns the number of indexes of the variable\n",
        "chipo.index"
      ],
      "execution_count": 0,
      "outputs": [
        {
          "output_type": "execute_result",
          "data": {
            "text/plain": [
              "RangeIndex(start=0, stop=4622, step=1)"
            ]
          },
          "metadata": {
            "tags": []
          },
          "execution_count": 28
        }
      ]
    },
    {
      "cell_type": "markdown",
      "metadata": {
        "id": "mkLBbhnhnQgX",
        "colab_type": "text"
      },
      "source": [
        "**Step 9.** *Which was the most-ordered item?*"
      ]
    },
    {
      "cell_type": "code",
      "metadata": {
        "id": "izubj3VmsJFK",
        "colab_type": "code",
        "outputId": "2b9fb650-a693-4bbe-f4e0-34f131f6e3e5",
        "colab": {
          "base_uri": "https://localhost:8080/",
          "height": 35
        }
      },
      "source": [
        "#Group by items with groupby,Sum the grouped data with the previous method \n",
        "#and Order the values ​​by quantity\n",
        "ObjItem= chipo.groupby('item_name').sum().sort_values(['quantity'], ascending=False)\n",
        "#Print the Item most-ordered\n",
        "ObjItem.iloc[0,0:0] "
      ],
      "execution_count": 0,
      "outputs": [
        {
          "output_type": "execute_result",
          "data": {
            "text/plain": [
              "Series([], Name: Chicken Bowl, dtype: int64)"
            ]
          },
          "metadata": {
            "tags": []
          },
          "execution_count": 93
        }
      ]
    },
    {
      "cell_type": "markdown",
      "metadata": {
        "id": "NOZbeF7CnQWD",
        "colab_type": "text"
      },
      "source": [
        "**Step 10.** *For the most-ordered item, how many items were ordered?*"
      ]
    },
    {
      "cell_type": "code",
      "metadata": {
        "id": "rhlmyhGBsJ9-",
        "colab_type": "code",
        "outputId": "fe6cb69d-f9b8-41df-9759-6e560fc380b3",
        "colab": {
          "base_uri": "https://localhost:8080/",
          "height": 35
        }
      },
      "source": [
        "#Print Quantity of ordered items\n",
        "ObjItem.iloc[0,1] "
      ],
      "execution_count": 0,
      "outputs": [
        {
          "output_type": "execute_result",
          "data": {
            "text/plain": [
              "761"
            ]
          },
          "metadata": {
            "tags": []
          },
          "execution_count": 94
        }
      ]
    },
    {
      "cell_type": "markdown",
      "metadata": {
        "id": "gkdcK2tmnQJg",
        "colab_type": "text"
      },
      "source": [
        "**Step 11.** *What was the most ordered item in the choice_description column?*"
      ]
    },
    {
      "cell_type": "code",
      "metadata": {
        "id": "iYDjUgbvsKkg",
        "colab_type": "code",
        "outputId": "32918975-027b-498b-df94-1067cd26fdfb",
        "colab": {
          "base_uri": "https://localhost:8080/",
          "height": 54
        }
      },
      "source": [
        "#Group by items with groupby,Sum the grouped data with the previous method \n",
        "#and Order the values ​​by quantity\n",
        "ObjItem= chipo.groupby('choice_description').sum().sort_values(['quantity'], ascending=False)\n",
        "#Print the Item most-ordered\n",
        "ObjItem.iloc[0,0:1] "
      ],
      "execution_count": 165,
      "outputs": [
        {
          "output_type": "execute_result",
          "data": {
            "text/plain": [
              "order_id    123455\n",
              "Name: [Diet Coke], dtype: int64"
            ]
          },
          "metadata": {
            "tags": []
          },
          "execution_count": 165
        }
      ]
    },
    {
      "cell_type": "markdown",
      "metadata": {
        "id": "8fl3erFcnP_i",
        "colab_type": "text"
      },
      "source": [
        "**Step 12.** *How many items were orderd in total?*"
      ]
    },
    {
      "cell_type": "code",
      "metadata": {
        "id": "hIh-yZ65sLOE",
        "colab_type": "code",
        "outputId": "4a4c9cb6-bfcc-45b1-802c-492d950f3bd5",
        "colab": {
          "base_uri": "https://localhost:8080/",
          "height": 35
        }
      },
      "source": [
        "#Count the quantity of items ordered with the quantity column\n",
        "chipo.quantity.sum()"
      ],
      "execution_count": 133,
      "outputs": [
        {
          "output_type": "execute_result",
          "data": {
            "text/plain": [
              "4972"
            ]
          },
          "metadata": {
            "tags": []
          },
          "execution_count": 133
        }
      ]
    },
    {
      "cell_type": "markdown",
      "metadata": {
        "id": "mBEJWnC2nP1w",
        "colab_type": "text"
      },
      "source": [
        "**Step 13.** *Turn the item price into a float.*"
      ]
    },
    {
      "cell_type": "markdown",
      "metadata": {
        "id": "we-hYs1GrNQk",
        "colab_type": "text"
      },
      "source": [
        "> **a.** *Check the item price type.*\n",
        "\n"
      ]
    },
    {
      "cell_type": "code",
      "metadata": {
        "id": "S_bofPqIsNZS",
        "colab_type": "code",
        "outputId": "45ebb8cf-673a-4f67-a2ad-2e696196c928",
        "colab": {
          "base_uri": "https://localhost:8080/",
          "height": 35
        }
      },
      "source": [
        "#with the dtype method we return the data type of the selected column\n",
        "chipo.item_price.dtype"
      ],
      "execution_count": 178,
      "outputs": [
        {
          "output_type": "execute_result",
          "data": {
            "text/plain": [
              "dtype('O')"
            ]
          },
          "metadata": {
            "tags": []
          },
          "execution_count": 178
        }
      ]
    },
    {
      "cell_type": "markdown",
      "metadata": {
        "id": "5g5-bXoyrNB8",
        "colab_type": "text"
      },
      "source": [
        "\n",
        "\n",
        "> **b.** *Create a lambda function and change the type of item price.*\n",
        "\n"
      ]
    },
    {
      "cell_type": "code",
      "metadata": {
        "id": "tVAa5S1vsOBY",
        "colab_type": "code",
        "colab": {}
      },
      "source": [
        "#Assign the column itemprice to chipo and later we apply the lambda function\n",
        "chipo.item_price=chipo.item_price.apply(lambda x: float(x[1:-1]))"
      ],
      "execution_count": 0,
      "outputs": []
    },
    {
      "cell_type": "markdown",
      "metadata": {
        "id": "6qhxcRgorijl",
        "colab_type": "text"
      },
      "source": [
        "\n",
        ">**c.** *Check the item price type.*\n",
        "\n"
      ]
    },
    {
      "cell_type": "code",
      "metadata": {
        "id": "KRBGaBBQIEoo",
        "colab_type": "code",
        "colab": {
          "base_uri": "https://localhost:8080/",
          "height": 35
        },
        "outputId": "668ee05f-2f15-4397-8917-4706c6765bd1"
      },
      "source": [
        "#recheck data type\n",
        "chipo.item_price.dtype"
      ],
      "execution_count": 180,
      "outputs": [
        {
          "output_type": "execute_result",
          "data": {
            "text/plain": [
              "dtype('float64')"
            ]
          },
          "metadata": {
            "tags": []
          },
          "execution_count": 180
        }
      ]
    },
    {
      "cell_type": "markdown",
      "metadata": {
        "id": "yguBVN2DnPsx",
        "colab_type": "text"
      },
      "source": [
        "**Step 14.** *How much was the revenue for the period in the dataset?*"
      ]
    },
    {
      "cell_type": "code",
      "metadata": {
        "id": "DH6GpixtsO_S",
        "colab_type": "code",
        "colab": {
          "base_uri": "https://localhost:8080/",
          "height": 35
        },
        "outputId": "5a3d96ce-243b-41a8-8163-ca8ca5b6c278"
      },
      "source": [
        "#We multiply the quantity by the price and add the result\n",
        "(chipo['quantity']*chipo['item_price']).sum()"
      ],
      "execution_count": 186,
      "outputs": [
        {
          "output_type": "execute_result",
          "data": {
            "text/plain": [
              "39237.02"
            ]
          },
          "metadata": {
            "tags": []
          },
          "execution_count": 186
        }
      ]
    },
    {
      "cell_type": "markdown",
      "metadata": {
        "id": "sv_UDSwMnPjq",
        "colab_type": "text"
      },
      "source": [
        "**Step 15.** *How many orders were made in the period?*"
      ]
    },
    {
      "cell_type": "code",
      "metadata": {
        "id": "PhRH3l2rsPkB",
        "colab_type": "code",
        "colab": {
          "base_uri": "https://localhost:8080/",
          "height": 35
        },
        "outputId": "494249c6-23a2-4bb4-8eb1-1c228b8d3075"
      },
      "source": [
        "#Count the number of order data with valuecounts\n",
        "#With count return the length that corresponds to the number of orders\n",
        "chipo.order_id.value_counts().count()"
      ],
      "execution_count": 197,
      "outputs": [
        {
          "output_type": "execute_result",
          "data": {
            "text/plain": [
              "1834"
            ]
          },
          "metadata": {
            "tags": []
          },
          "execution_count": 197
        }
      ]
    },
    {
      "cell_type": "markdown",
      "metadata": {
        "id": "UCcoqdj1nPY-",
        "colab_type": "text"
      },
      "source": [
        "**Step 16.** *What is the average revenue amount per order?*"
      ]
    },
    {
      "cell_type": "code",
      "metadata": {
        "id": "WY1U2AEPsQLY",
        "colab_type": "code",
        "colab": {
          "base_uri": "https://localhost:8080/",
          "height": 35
        },
        "outputId": "2d24a309-fca2-4f54-ad61-f834bdf4f467"
      },
      "source": [
        "#With the group method ordered by order_id, \n",
        "#Add the data and get the average (Specify revenue)\n",
        "chipo.groupby('order_id').sum().mean()['revenue']"
      ],
      "execution_count": 206,
      "outputs": [
        {
          "output_type": "execute_result",
          "data": {
            "text/plain": [
              "21.394231188658654"
            ]
          },
          "metadata": {
            "tags": []
          },
          "execution_count": 206
        }
      ]
    },
    {
      "cell_type": "markdown",
      "metadata": {
        "id": "oY9bZ7L0nPIa",
        "colab_type": "text"
      },
      "source": [
        "**Step 17.** *How many different items are sold?*"
      ]
    },
    {
      "cell_type": "code",
      "metadata": {
        "id": "rsvhYaAHmy9Z",
        "colab_type": "code",
        "colab": {
          "base_uri": "https://localhost:8080/",
          "height": 35
        },
        "outputId": "5495a0ff-1dd0-4503-a8c1-7e5c5e158020"
      },
      "source": [
        "#Count the number of different items \n",
        "#Count the number of items obtained\n",
        "chipo.item_name.value_counts().count()"
      ],
      "execution_count": 211,
      "outputs": [
        {
          "output_type": "execute_result",
          "data": {
            "text/plain": [
              "50"
            ]
          },
          "metadata": {
            "tags": []
          },
          "execution_count": 211
        }
      ]
    },
    {
      "cell_type": "markdown",
      "metadata": {
        "id": "4DEqYqxLmpQz",
        "colab_type": "text"
      },
      "source": [
        "### ***Occupation***"
      ]
    },
    {
      "cell_type": "markdown",
      "metadata": {
        "id": "wK2ygJ3Msekh",
        "colab_type": "text"
      },
      "source": [
        "Dataset and materials: https://github.com/justmarkham"
      ]
    },
    {
      "cell_type": "markdown",
      "metadata": {
        "id": "_a5FkpJVsfV_",
        "colab_type": "text"
      },
      "source": [
        "**Step 1.** *Import the necessary libraries.*"
      ]
    },
    {
      "cell_type": "code",
      "metadata": {
        "id": "A-m09Ro2tpJO",
        "colab_type": "code",
        "colab": {}
      },
      "source": [
        ""
      ],
      "execution_count": 0,
      "outputs": []
    },
    {
      "cell_type": "markdown",
      "metadata": {
        "id": "vxEpYLAqsnRM",
        "colab_type": "text"
      },
      "source": [
        "**Step 2.** *Import the dataset from this address.*"
      ]
    },
    {
      "cell_type": "code",
      "metadata": {
        "id": "4Fcalq-Mtq5A",
        "colab_type": "code",
        "colab": {}
      },
      "source": [
        ""
      ],
      "execution_count": 0,
      "outputs": []
    },
    {
      "cell_type": "markdown",
      "metadata": {
        "id": "Bo1_eBGTsnzZ",
        "colab_type": "text"
      },
      "source": [
        "**Step 3.** *Assign it to a variable called users and use the 'user_id' as index.*"
      ]
    },
    {
      "cell_type": "code",
      "metadata": {
        "id": "gYIiE4X_troj",
        "colab_type": "code",
        "colab": {}
      },
      "source": [
        ""
      ],
      "execution_count": 0,
      "outputs": []
    },
    {
      "cell_type": "markdown",
      "metadata": {
        "id": "lfAMnzp1soUU",
        "colab_type": "text"
      },
      "source": [
        "**Step 4.** *See the first 25 entries.*"
      ]
    },
    {
      "cell_type": "code",
      "metadata": {
        "id": "NW6UOiVTtsR2",
        "colab_type": "code",
        "colab": {}
      },
      "source": [
        ""
      ],
      "execution_count": 0,
      "outputs": []
    },
    {
      "cell_type": "markdown",
      "metadata": {
        "id": "Sl_UhkHvsp8k",
        "colab_type": "text"
      },
      "source": [
        "**Step 5.** *See the last 10 entries.*"
      ]
    },
    {
      "cell_type": "code",
      "metadata": {
        "id": "bAOP5WxittMg",
        "colab_type": "code",
        "colab": {}
      },
      "source": [
        ""
      ],
      "execution_count": 0,
      "outputs": []
    },
    {
      "cell_type": "markdown",
      "metadata": {
        "id": "AggGN31lsrUq",
        "colab_type": "text"
      },
      "source": [
        "**Step 6.** *What is the number of observations in the dataset?*"
      ]
    },
    {
      "cell_type": "code",
      "metadata": {
        "id": "4DwUlbTjtuLk",
        "colab_type": "code",
        "colab": {}
      },
      "source": [
        ""
      ],
      "execution_count": 0,
      "outputs": []
    },
    {
      "cell_type": "markdown",
      "metadata": {
        "id": "ZS24ZxnnsrzE",
        "colab_type": "text"
      },
      "source": [
        "**Step 7.** *What is the number of columns in the dataset?*"
      ]
    },
    {
      "cell_type": "code",
      "metadata": {
        "id": "a7aJW9Lrtuor",
        "colab_type": "code",
        "colab": {}
      },
      "source": [
        ""
      ],
      "execution_count": 0,
      "outputs": []
    },
    {
      "cell_type": "markdown",
      "metadata": {
        "id": "HXDpZ0aissT6",
        "colab_type": "text"
      },
      "source": [
        "**Step 8.** *Print the name of all the columns.*"
      ]
    },
    {
      "cell_type": "code",
      "metadata": {
        "id": "BM7vtJA_tu7-",
        "colab_type": "code",
        "colab": {}
      },
      "source": [
        ""
      ],
      "execution_count": 0,
      "outputs": []
    },
    {
      "cell_type": "markdown",
      "metadata": {
        "id": "g76gRdOhss0i",
        "colab_type": "text"
      },
      "source": [
        "**Step 9.** *How is the dataset indexed?*"
      ]
    },
    {
      "cell_type": "code",
      "metadata": {
        "id": "9oZYDo2ltwc_",
        "colab_type": "code",
        "colab": {}
      },
      "source": [
        ""
      ],
      "execution_count": 0,
      "outputs": []
    },
    {
      "cell_type": "markdown",
      "metadata": {
        "id": "sfeX-EZHsthv",
        "colab_type": "text"
      },
      "source": [
        "**Step 10.** *What is the data type of each column?*"
      ]
    },
    {
      "cell_type": "code",
      "metadata": {
        "id": "2aKFIlc-tw_g",
        "colab_type": "code",
        "colab": {}
      },
      "source": [
        ""
      ],
      "execution_count": 0,
      "outputs": []
    },
    {
      "cell_type": "markdown",
      "metadata": {
        "id": "AaSs9J36suix",
        "colab_type": "text"
      },
      "source": [
        "**Step 11.** *Print only the occupation column.*"
      ]
    },
    {
      "cell_type": "code",
      "metadata": {
        "id": "WWq_58devUmL",
        "colab_type": "code",
        "colab": {}
      },
      "source": [
        ""
      ],
      "execution_count": 0,
      "outputs": []
    },
    {
      "cell_type": "markdown",
      "metadata": {
        "id": "Ba1MYe7dsvFK",
        "colab_type": "text"
      },
      "source": [
        "**Step 12.** *How many different occupations are in this dataset?*"
      ]
    },
    {
      "cell_type": "code",
      "metadata": {
        "id": "G2p9xpyKvUKj",
        "colab_type": "code",
        "colab": {}
      },
      "source": [
        ""
      ],
      "execution_count": 0,
      "outputs": []
    },
    {
      "cell_type": "markdown",
      "metadata": {
        "id": "Kap06PJBsvz1",
        "colab_type": "text"
      },
      "source": [
        "**Step 13.** *What is the most frequent occupation?*"
      ]
    },
    {
      "cell_type": "code",
      "metadata": {
        "id": "OhI6FoIYvTxD",
        "colab_type": "code",
        "colab": {}
      },
      "source": [
        ""
      ],
      "execution_count": 0,
      "outputs": []
    },
    {
      "cell_type": "markdown",
      "metadata": {
        "id": "m8iABcWoswiB",
        "colab_type": "text"
      },
      "source": [
        "**Step 14.** *Summarize the DataFrame.*"
      ]
    },
    {
      "cell_type": "code",
      "metadata": {
        "id": "wz5CKVdAvTJg",
        "colab_type": "code",
        "colab": {}
      },
      "source": [
        ""
      ],
      "execution_count": 0,
      "outputs": []
    },
    {
      "cell_type": "markdown",
      "metadata": {
        "id": "gX1eNZYFsxMp",
        "colab_type": "text"
      },
      "source": [
        "**Step 15.** *Summarize all the columns.*"
      ]
    },
    {
      "cell_type": "code",
      "metadata": {
        "id": "rkpYp7AVvS38",
        "colab_type": "code",
        "colab": {}
      },
      "source": [
        ""
      ],
      "execution_count": 0,
      "outputs": []
    },
    {
      "cell_type": "markdown",
      "metadata": {
        "id": "79Y1BeaisyBQ",
        "colab_type": "text"
      },
      "source": [
        "**Step 16.** *Summarize only the occupation column.*"
      ]
    },
    {
      "cell_type": "code",
      "metadata": {
        "id": "guIo_XYmvShn",
        "colab_type": "code",
        "colab": {}
      },
      "source": [
        ""
      ],
      "execution_count": 0,
      "outputs": []
    },
    {
      "cell_type": "markdown",
      "metadata": {
        "id": "MqgPwIcJsypp",
        "colab_type": "text"
      },
      "source": [
        "**Step 17.** *What is the mean age of users?*"
      ]
    },
    {
      "cell_type": "code",
      "metadata": {
        "id": "iKu9JSTfvSEE",
        "colab_type": "code",
        "colab": {}
      },
      "source": [
        ""
      ],
      "execution_count": 0,
      "outputs": []
    },
    {
      "cell_type": "markdown",
      "metadata": {
        "id": "p8hLTPO_vN89",
        "colab_type": "text"
      },
      "source": [
        "**Step 18.** *What is the age with least occurrence?*"
      ]
    },
    {
      "cell_type": "code",
      "metadata": {
        "id": "S5ACpjAevRpW",
        "colab_type": "code",
        "colab": {}
      },
      "source": [
        ""
      ],
      "execution_count": 0,
      "outputs": []
    },
    {
      "cell_type": "markdown",
      "metadata": {
        "id": "uBzGyhZ3muin",
        "colab_type": "text"
      },
      "source": [
        "### ***World Food Facts***"
      ]
    },
    {
      "cell_type": "markdown",
      "metadata": {
        "id": "qGIwfaGbwH1P",
        "colab_type": "text"
      },
      "source": [
        "\n",
        "**Step 1.** *Go to https://www.kaggle.com/openfoodfacts/world-food-facts/data*"
      ]
    },
    {
      "cell_type": "markdown",
      "metadata": {
        "id": "nb_Pkx6rwJn_",
        "colab_type": "text"
      },
      "source": [
        "**Step 2.** *Download the dataset to your computer and unzip it.*"
      ]
    },
    {
      "cell_type": "markdown",
      "metadata": {
        "id": "vNLE9EXJwVq7",
        "colab_type": "text"
      },
      "source": [
        "**Step 3.** *Use the tsv file and assign it to a dataframe called food.*"
      ]
    },
    {
      "cell_type": "markdown",
      "metadata": {
        "id": "7MeRRKHPweia",
        "colab_type": "text"
      },
      "source": [
        "**Step 4.** *See the first 5 entries.*"
      ]
    },
    {
      "cell_type": "markdown",
      "metadata": {
        "id": "diaZYcYmwaQ0",
        "colab_type": "text"
      },
      "source": [
        "**Step 5.** *What is the number of observations in the dataset?*"
      ]
    },
    {
      "cell_type": "markdown",
      "metadata": {
        "id": "Fza59SHfwzwQ",
        "colab_type": "text"
      },
      "source": [
        "**Step 6.** *What is the number of columns in the dataset?*"
      ]
    },
    {
      "cell_type": "markdown",
      "metadata": {
        "id": "Erhv5Talw5HE",
        "colab_type": "text"
      },
      "source": [
        "**Step 7.** *Print the name of all the columns.*"
      ]
    },
    {
      "cell_type": "markdown",
      "metadata": {
        "id": "cI_kEJJ_w90B",
        "colab_type": "text"
      },
      "source": [
        "**Step 8.** *What is the name of 105th column?*"
      ]
    },
    {
      "cell_type": "markdown",
      "metadata": {
        "id": "YvVeAWDfxDA6",
        "colab_type": "text"
      },
      "source": [
        "\n",
        "**Step 9.** *What is the type of the observations of the 105th column?*"
      ]
    },
    {
      "cell_type": "markdown",
      "metadata": {
        "id": "-4hJ06T0xGxh",
        "colab_type": "text"
      },
      "source": [
        "**Step 10.** *How is the dataset indexed?*"
      ]
    },
    {
      "cell_type": "markdown",
      "metadata": {
        "id": "0jCRIInoxLG8",
        "colab_type": "text"
      },
      "source": [
        "**Step 11.** *What is the product name of the 19th observation?*"
      ]
    },
    {
      "cell_type": "markdown",
      "metadata": {
        "id": "t0ToHOu2lDkZ",
        "colab_type": "text"
      },
      "source": [
        "## ***Filtering and Sorting***"
      ]
    },
    {
      "cell_type": "markdown",
      "metadata": {
        "id": "PCMXWVdRlDZe",
        "colab_type": "text"
      },
      "source": [
        "## ***Grouping***"
      ]
    },
    {
      "cell_type": "markdown",
      "metadata": {
        "id": "Q2Xa0E4tlDNS",
        "colab_type": "text"
      },
      "source": [
        "## ***Apply***"
      ]
    },
    {
      "cell_type": "markdown",
      "metadata": {
        "id": "fH9Ws6LBlDB9",
        "colab_type": "text"
      },
      "source": [
        "## ***Merge***"
      ]
    },
    {
      "cell_type": "markdown",
      "metadata": {
        "id": "UQS8-Hh4lC3O",
        "colab_type": "text"
      },
      "source": [
        "## ***Stats***\n"
      ]
    },
    {
      "cell_type": "markdown",
      "metadata": {
        "id": "FoiB-SMhlCrf",
        "colab_type": "text"
      },
      "source": [
        "## ***Visualization***"
      ]
    },
    {
      "cell_type": "markdown",
      "metadata": {
        "id": "v1R52o4EmBQc",
        "colab_type": "text"
      },
      "source": [
        "## ***Creating Series and DataFrames***"
      ]
    },
    {
      "cell_type": "markdown",
      "metadata": {
        "id": "l26fP-8LmO9x",
        "colab_type": "text"
      },
      "source": [
        "## ***Time Series***"
      ]
    },
    {
      "cell_type": "markdown",
      "metadata": {
        "id": "G_zQUOGLmXMN",
        "colab_type": "text"
      },
      "source": [
        "## ***Deleting***"
      ]
    }
  ]
}